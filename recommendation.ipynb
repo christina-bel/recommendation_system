{
 "cells": [
  {
   "cell_type": "code",
   "execution_count": 1,
   "metadata": {},
   "outputs": [],
   "source": [
    "#!pip install swifter --user\n",
    "#!pip install numpy --user\n",
    "#!pip install nltk --user\n",
    "#!pip install sklearn --user\n",
    "#!pip install arrow --user"
   ]
  },
  {
   "cell_type": "code",
   "execution_count": 2,
   "metadata": {},
   "outputs": [],
   "source": [
    "# импорт библиотек\n",
    "import json \n",
    "import numpy as np\n",
    "import pandas as pd\n",
    "import re\n",
    "import string\n",
    "import nltk\n",
    "import csv\n",
    "from nltk.corpus import stopwords \n",
    "from nltk.stem import WordNetLemmatizer\n",
    "from nltk.tokenize import RegexpTokenizer \n",
    "import gc\n",
    "import swifter\n",
    "from sklearn.feature_extraction.text import TfidfVectorizer\n",
    "from sklearn.model_selection import train_test_split\n",
    "import pickle \n",
    "import sys\n",
    "import arrow\n",
    "import numpy as np\n",
    "from numpy.linalg import norm"
   ]
  },
  {
   "cell_type": "code",
   "execution_count": 3,
   "metadata": {},
   "outputs": [
    {
     "name": "stderr",
     "output_type": "stream",
     "text": [
      "[nltk_data] Downloading package stopwords to\n",
      "[nltk_data]     /Users/kristina/nltk_data...\n",
      "[nltk_data]   Package stopwords is already up-to-date!\n",
      "[nltk_data] Downloading package wordnet to\n",
      "[nltk_data]     /Users/kristina/nltk_data...\n",
      "[nltk_data]   Package wordnet is already up-to-date!\n"
     ]
    },
    {
     "data": {
      "text/plain": [
       "True"
      ]
     },
     "execution_count": 3,
     "metadata": {},
     "output_type": "execute_result"
    }
   ],
   "source": [
    "# загрузка данных nltk \n",
    "nltk.download(\"stopwords\")\n",
    "nltk.download(\"wordnet\")"
   ]
  },
  {
   "cell_type": "code",
   "execution_count": 4,
   "metadata": {},
   "outputs": [],
   "source": [
    "STOP_WORDS = stopwords.words('english') # стоп-слова\n",
    "lemmatizer = WordNetLemmatizer() # лемматизатор\n",
    "tokenizer = RegexpTokenizer(r'\\w+') # токенизатор (лексер)"
   ]
  },
  {
   "cell_type": "code",
   "execution_count": 5,
   "metadata": {},
   "outputs": [
    {
     "data": {
      "text/html": [
       "<div>\n",
       "<style scoped>\n",
       "    .dataframe tbody tr th:only-of-type {\n",
       "        vertical-align: middle;\n",
       "    }\n",
       "\n",
       "    .dataframe tbody tr th {\n",
       "        vertical-align: top;\n",
       "    }\n",
       "\n",
       "    .dataframe thead th {\n",
       "        text-align: right;\n",
       "    }\n",
       "</style>\n",
       "<table border=\"1\" class=\"dataframe\">\n",
       "  <thead>\n",
       "    <tr style=\"text-align: right;\">\n",
       "      <th></th>\n",
       "      <th>business_id</th>\n",
       "      <th>name</th>\n",
       "      <th>address</th>\n",
       "      <th>city</th>\n",
       "      <th>state</th>\n",
       "      <th>postal_code</th>\n",
       "      <th>latitude</th>\n",
       "      <th>longitude</th>\n",
       "      <th>stars</th>\n",
       "      <th>review_count</th>\n",
       "      <th>is_open</th>\n",
       "      <th>attributes</th>\n",
       "      <th>categories</th>\n",
       "      <th>hours</th>\n",
       "    </tr>\n",
       "  </thead>\n",
       "  <tbody>\n",
       "    <tr>\n",
       "      <th>0</th>\n",
       "      <td>f9NumwFMBDn751xgFiRbNA</td>\n",
       "      <td>The Range At Lake Norman</td>\n",
       "      <td>10913 Bailey Rd</td>\n",
       "      <td>Cornelius</td>\n",
       "      <td>NC</td>\n",
       "      <td>28031</td>\n",
       "      <td>35.462724</td>\n",
       "      <td>-80.852612</td>\n",
       "      <td>3.5</td>\n",
       "      <td>36</td>\n",
       "      <td>1</td>\n",
       "      <td>{'BusinessAcceptsCreditCards': 'True', 'BikePa...</td>\n",
       "      <td>Active Life, Gun/Rifle Ranges, Guns &amp; Ammo, Sh...</td>\n",
       "      <td>{'Monday': '10:0-18:0', 'Tuesday': '11:0-20:0'...</td>\n",
       "    </tr>\n",
       "    <tr>\n",
       "      <th>1</th>\n",
       "      <td>Yzvjg0SayhoZgCljUJRF9Q</td>\n",
       "      <td>Carlos Santo, NMD</td>\n",
       "      <td>8880 E Via Linda, Ste 107</td>\n",
       "      <td>Scottsdale</td>\n",
       "      <td>AZ</td>\n",
       "      <td>85258</td>\n",
       "      <td>33.569404</td>\n",
       "      <td>-111.890264</td>\n",
       "      <td>5.0</td>\n",
       "      <td>4</td>\n",
       "      <td>1</td>\n",
       "      <td>{'GoodForKids': 'True', 'ByAppointmentOnly': '...</td>\n",
       "      <td>Health &amp; Medical, Fitness &amp; Instruction, Yoga,...</td>\n",
       "      <td>None</td>\n",
       "    </tr>\n",
       "    <tr>\n",
       "      <th>2</th>\n",
       "      <td>XNoUzKckATkOD1hP6vghZg</td>\n",
       "      <td>Felinus</td>\n",
       "      <td>3554 Rue Notre-Dame O</td>\n",
       "      <td>Montreal</td>\n",
       "      <td>QC</td>\n",
       "      <td>H4C 1P4</td>\n",
       "      <td>45.479984</td>\n",
       "      <td>-73.580070</td>\n",
       "      <td>5.0</td>\n",
       "      <td>5</td>\n",
       "      <td>1</td>\n",
       "      <td>None</td>\n",
       "      <td>Pets, Pet Services, Pet Groomers</td>\n",
       "      <td>None</td>\n",
       "    </tr>\n",
       "    <tr>\n",
       "      <th>3</th>\n",
       "      <td>6OAZjbxqM5ol29BuHsil3w</td>\n",
       "      <td>Nevada House of Hose</td>\n",
       "      <td>1015 Sharp Cir</td>\n",
       "      <td>North Las Vegas</td>\n",
       "      <td>NV</td>\n",
       "      <td>89030</td>\n",
       "      <td>36.219728</td>\n",
       "      <td>-115.127725</td>\n",
       "      <td>2.5</td>\n",
       "      <td>3</td>\n",
       "      <td>0</td>\n",
       "      <td>{'BusinessAcceptsCreditCards': 'True', 'ByAppo...</td>\n",
       "      <td>Hardware Stores, Home Services, Building Suppl...</td>\n",
       "      <td>{'Monday': '7:0-16:0', 'Tuesday': '7:0-16:0', ...</td>\n",
       "    </tr>\n",
       "    <tr>\n",
       "      <th>4</th>\n",
       "      <td>51M2Kk903DFYI6gnB5I6SQ</td>\n",
       "      <td>USE MY GUY SERVICES LLC</td>\n",
       "      <td>4827 E Downing Cir</td>\n",
       "      <td>Mesa</td>\n",
       "      <td>AZ</td>\n",
       "      <td>85205</td>\n",
       "      <td>33.428065</td>\n",
       "      <td>-111.726648</td>\n",
       "      <td>4.5</td>\n",
       "      <td>26</td>\n",
       "      <td>1</td>\n",
       "      <td>{'BusinessAcceptsCreditCards': 'True', 'ByAppo...</td>\n",
       "      <td>Home Services, Plumbing, Electricians, Handyma...</td>\n",
       "      <td>{'Monday': '0:0-0:0', 'Tuesday': '9:0-16:0', '...</td>\n",
       "    </tr>\n",
       "  </tbody>\n",
       "</table>\n",
       "</div>"
      ],
      "text/plain": [
       "              business_id                      name  \\\n",
       "0  f9NumwFMBDn751xgFiRbNA  The Range At Lake Norman   \n",
       "1  Yzvjg0SayhoZgCljUJRF9Q         Carlos Santo, NMD   \n",
       "2  XNoUzKckATkOD1hP6vghZg                   Felinus   \n",
       "3  6OAZjbxqM5ol29BuHsil3w      Nevada House of Hose   \n",
       "4  51M2Kk903DFYI6gnB5I6SQ   USE MY GUY SERVICES LLC   \n",
       "\n",
       "                     address             city state postal_code   latitude  \\\n",
       "0            10913 Bailey Rd        Cornelius    NC       28031  35.462724   \n",
       "1  8880 E Via Linda, Ste 107       Scottsdale    AZ       85258  33.569404   \n",
       "2      3554 Rue Notre-Dame O         Montreal    QC     H4C 1P4  45.479984   \n",
       "3             1015 Sharp Cir  North Las Vegas    NV       89030  36.219728   \n",
       "4         4827 E Downing Cir             Mesa    AZ       85205  33.428065   \n",
       "\n",
       "    longitude  stars  review_count  is_open  \\\n",
       "0  -80.852612    3.5            36        1   \n",
       "1 -111.890264    5.0             4        1   \n",
       "2  -73.580070    5.0             5        1   \n",
       "3 -115.127725    2.5             3        0   \n",
       "4 -111.726648    4.5            26        1   \n",
       "\n",
       "                                          attributes  \\\n",
       "0  {'BusinessAcceptsCreditCards': 'True', 'BikePa...   \n",
       "1  {'GoodForKids': 'True', 'ByAppointmentOnly': '...   \n",
       "2                                               None   \n",
       "3  {'BusinessAcceptsCreditCards': 'True', 'ByAppo...   \n",
       "4  {'BusinessAcceptsCreditCards': 'True', 'ByAppo...   \n",
       "\n",
       "                                          categories  \\\n",
       "0  Active Life, Gun/Rifle Ranges, Guns & Ammo, Sh...   \n",
       "1  Health & Medical, Fitness & Instruction, Yoga,...   \n",
       "2                   Pets, Pet Services, Pet Groomers   \n",
       "3  Hardware Stores, Home Services, Building Suppl...   \n",
       "4  Home Services, Plumbing, Electricians, Handyma...   \n",
       "\n",
       "                                               hours  \n",
       "0  {'Monday': '10:0-18:0', 'Tuesday': '11:0-20:0'...  \n",
       "1                                               None  \n",
       "2                                               None  \n",
       "3  {'Monday': '7:0-16:0', 'Tuesday': '7:0-16:0', ...  \n",
       "4  {'Monday': '0:0-0:0', 'Tuesday': '9:0-16:0', '...  "
      ]
     },
     "execution_count": 5,
     "metadata": {},
     "output_type": "execute_result"
    }
   ],
   "source": [
    "# данные о предприятиях\n",
    "df_business = pd.read_json('yelp_dataset/yelp_academic_dataset_business.json', lines=True)\n",
    "df_business.head()"
   ]
  },
  {
   "cell_type": "code",
   "execution_count": 6,
   "metadata": {
    "scrolled": true
   },
   "outputs": [
    {
     "data": {
      "text/html": [
       "<div>\n",
       "<style scoped>\n",
       "    .dataframe tbody tr th:only-of-type {\n",
       "        vertical-align: middle;\n",
       "    }\n",
       "\n",
       "    .dataframe tbody tr th {\n",
       "        vertical-align: top;\n",
       "    }\n",
       "\n",
       "    .dataframe thead th {\n",
       "        text-align: right;\n",
       "    }\n",
       "</style>\n",
       "<table border=\"1\" class=\"dataframe\">\n",
       "  <thead>\n",
       "    <tr style=\"text-align: right;\">\n",
       "      <th></th>\n",
       "      <th>business_id</th>\n",
       "      <th>name</th>\n",
       "      <th>address</th>\n",
       "      <th>city</th>\n",
       "      <th>state</th>\n",
       "      <th>postal_code</th>\n",
       "      <th>latitude</th>\n",
       "      <th>longitude</th>\n",
       "      <th>stars</th>\n",
       "      <th>review_count</th>\n",
       "      <th>is_open</th>\n",
       "      <th>attributes</th>\n",
       "      <th>categories</th>\n",
       "      <th>hours</th>\n",
       "    </tr>\n",
       "  </thead>\n",
       "  <tbody>\n",
       "    <tr>\n",
       "      <th>136</th>\n",
       "      <td>3C0bnFhjkgYP9mWORKg6cA</td>\n",
       "      <td>Chili Man</td>\n",
       "      <td>S Tryon</td>\n",
       "      <td>Charlotte</td>\n",
       "      <td>NC</td>\n",
       "      <td>28202</td>\n",
       "      <td>35.226911</td>\n",
       "      <td>-80.843823</td>\n",
       "      <td>5.0</td>\n",
       "      <td>172</td>\n",
       "      <td>1</td>\n",
       "      <td>{'RestaurantsTakeOut': 'True', 'RestaurantsDel...</td>\n",
       "      <td>Hot Dogs, Food, Street Vendors, Restaurants</td>\n",
       "      <td>{'Tuesday': '11:0-14:30', 'Wednesday': '11:0-1...</td>\n",
       "    </tr>\n",
       "    <tr>\n",
       "      <th>155</th>\n",
       "      <td>e1tqT4QNOUqDiOvmaIcxfQ</td>\n",
       "      <td>Chef Alyssa's Kitchen</td>\n",
       "      <td>4001-C Yancey Rd, Ste 100</td>\n",
       "      <td>Charlotte</td>\n",
       "      <td>NC</td>\n",
       "      <td>28217</td>\n",
       "      <td>35.186099</td>\n",
       "      <td>-80.878288</td>\n",
       "      <td>4.5</td>\n",
       "      <td>58</td>\n",
       "      <td>1</td>\n",
       "      <td>{'BusinessAcceptsCreditCards': 'True', 'DogsAl...</td>\n",
       "      <td>Active Life, Summer Camps, Personal Chefs, Ven...</td>\n",
       "      <td>{'Monday': '0:0-0:0', 'Tuesday': '18:0-21:0', ...</td>\n",
       "    </tr>\n",
       "    <tr>\n",
       "      <th>176</th>\n",
       "      <td>PlP0c_u3g-3LiWHpb2XnOQ</td>\n",
       "      <td>Lee Cafe</td>\n",
       "      <td>1046 Regent Pkwy, Ste 107</td>\n",
       "      <td>Fort Mill</td>\n",
       "      <td>SC</td>\n",
       "      <td>29715</td>\n",
       "      <td>35.075476</td>\n",
       "      <td>-80.933904</td>\n",
       "      <td>4.0</td>\n",
       "      <td>267</td>\n",
       "      <td>1</td>\n",
       "      <td>{'NoiseLevel': 'u'average'', 'RestaurantsReser...</td>\n",
       "      <td>Restaurants, Sushi Bars, Chinese</td>\n",
       "      <td>{'Monday': '17:0-21:30', 'Tuesday': '17:0-21:3...</td>\n",
       "    </tr>\n",
       "    <tr>\n",
       "      <th>197</th>\n",
       "      <td>8k8cMmMcuj5h85mMLMoj2w</td>\n",
       "      <td>RayNathan's</td>\n",
       "      <td>4571 S New Hope Rd</td>\n",
       "      <td>Gastonia</td>\n",
       "      <td>NC</td>\n",
       "      <td>28056</td>\n",
       "      <td>35.207800</td>\n",
       "      <td>-81.074761</td>\n",
       "      <td>4.0</td>\n",
       "      <td>58</td>\n",
       "      <td>1</td>\n",
       "      <td>{'GoodForKids': 'True', 'WheelchairAccessible'...</td>\n",
       "      <td>Barbeque, Southern, Restaurants, American (Tra...</td>\n",
       "      <td>{'Thursday': '11:0-21:0', 'Friday': '11:0-21:0...</td>\n",
       "    </tr>\n",
       "    <tr>\n",
       "      <th>250</th>\n",
       "      <td>ypILNgy7QFskKAdcPKB2RQ</td>\n",
       "      <td>KFC</td>\n",
       "      <td>1667 Ebenezer Rd</td>\n",
       "      <td>Rock Hill</td>\n",
       "      <td>SC</td>\n",
       "      <td>29732</td>\n",
       "      <td>34.956131</td>\n",
       "      <td>-81.046257</td>\n",
       "      <td>2.0</td>\n",
       "      <td>5</td>\n",
       "      <td>1</td>\n",
       "      <td>{'GoodForKids': 'True', 'WiFi': ''free'', 'Res...</td>\n",
       "      <td>Restaurants, Fast Food, Chicken Shop, Chicken ...</td>\n",
       "      <td>{'Monday': '0:0-0:0', 'Tuesday': '10:0-22:0', ...</td>\n",
       "    </tr>\n",
       "  </tbody>\n",
       "</table>\n",
       "</div>"
      ],
      "text/plain": [
       "                business_id                   name                    address  \\\n",
       "136  3C0bnFhjkgYP9mWORKg6cA              Chili Man                    S Tryon   \n",
       "155  e1tqT4QNOUqDiOvmaIcxfQ  Chef Alyssa's Kitchen  4001-C Yancey Rd, Ste 100   \n",
       "176  PlP0c_u3g-3LiWHpb2XnOQ               Lee Cafe  1046 Regent Pkwy, Ste 107   \n",
       "197  8k8cMmMcuj5h85mMLMoj2w            RayNathan's         4571 S New Hope Rd   \n",
       "250  ypILNgy7QFskKAdcPKB2RQ                    KFC           1667 Ebenezer Rd   \n",
       "\n",
       "          city state postal_code   latitude  longitude  stars  review_count  \\\n",
       "136  Charlotte    NC       28202  35.226911 -80.843823    5.0           172   \n",
       "155  Charlotte    NC       28217  35.186099 -80.878288    4.5            58   \n",
       "176  Fort Mill    SC       29715  35.075476 -80.933904    4.0           267   \n",
       "197   Gastonia    NC       28056  35.207800 -81.074761    4.0            58   \n",
       "250  Rock Hill    SC       29732  34.956131 -81.046257    2.0             5   \n",
       "\n",
       "     is_open                                         attributes  \\\n",
       "136        1  {'RestaurantsTakeOut': 'True', 'RestaurantsDel...   \n",
       "155        1  {'BusinessAcceptsCreditCards': 'True', 'DogsAl...   \n",
       "176        1  {'NoiseLevel': 'u'average'', 'RestaurantsReser...   \n",
       "197        1  {'GoodForKids': 'True', 'WheelchairAccessible'...   \n",
       "250        1  {'GoodForKids': 'True', 'WiFi': ''free'', 'Res...   \n",
       "\n",
       "                                            categories  \\\n",
       "136        Hot Dogs, Food, Street Vendors, Restaurants   \n",
       "155  Active Life, Summer Camps, Personal Chefs, Ven...   \n",
       "176                   Restaurants, Sushi Bars, Chinese   \n",
       "197  Barbeque, Southern, Restaurants, American (Tra...   \n",
       "250  Restaurants, Fast Food, Chicken Shop, Chicken ...   \n",
       "\n",
       "                                                 hours  \n",
       "136  {'Tuesday': '11:0-14:30', 'Wednesday': '11:0-1...  \n",
       "155  {'Monday': '0:0-0:0', 'Tuesday': '18:0-21:0', ...  \n",
       "176  {'Monday': '17:0-21:30', 'Tuesday': '17:0-21:3...  \n",
       "197  {'Thursday': '11:0-21:0', 'Friday': '11:0-21:0...  \n",
       "250  {'Monday': '0:0-0:0', 'Tuesday': '10:0-22:0', ...  "
      ]
     },
     "execution_count": 6,
     "metadata": {},
     "output_type": "execute_result"
    }
   ],
   "source": [
    "# убираем предприятия, в которых отсутствуют данные и оставляем только заведения общественного питания (рестораны)\n",
    "#df_business = df_business.dropna() \n",
    "df_business = df_business[df_business['categories'].notna() & df_business['state'].notna()]\n",
    "df_business_restaurants = df_business[df_business['categories'].str.contains('Restaurants') & df_business['state'].str.contains('NC|SC')] \n",
    "\n",
    "# удаляем df_business и вызываем сборщик мусора\n",
    "del(df_business)\n",
    "gc.collect()\n",
    "\n",
    "# оставляем только открытые заведения (1 = open , 0 = closed)\n",
    "df_business_restaurants = df_business_restaurants[df_business_restaurants['is_open'] == 1]\n",
    "df_business_restaurants.head()"
   ]
  },
  {
   "cell_type": "code",
   "execution_count": 7,
   "metadata": {},
   "outputs": [
    {
     "name": "stdout",
     "output_type": "stream",
     "text": [
      "(3613, 14)\n"
     ]
    }
   ],
   "source": [
    "print(df_business_restaurants.shape)"
   ]
  },
  {
   "cell_type": "code",
   "execution_count": null,
   "metadata": {},
   "outputs": [],
   "source": []
  },
  {
   "cell_type": "code",
   "execution_count": 8,
   "metadata": {},
   "outputs": [],
   "source": [
    "# файл формата json с отзывами очень большой, необходимо преобразовать его в csv \n",
    "keys = [\"review_id\", \"user_id\", \"business_id\", \"stars\", \"text\"]\n",
    "with open(\"review_data.csv\", \"w\",  encoding='utf-8') as fcsv:\n",
    "    wr = csv.writer(fcsv)\n",
    "    wr.writerow(['review_id', 'user_id', 'business_id', 'stars', 'text'])\n",
    "    with open('yelp_dataset/yelp_academic_dataset_review.json', encoding='utf-8') as f:\n",
    "        for line in f:\n",
    "            data = json.loads(line)\n",
    "            wr.writerow([data[keys[0]], data[keys[1]], data[keys[2]], data[keys[3]], data[keys[4]]])"
   ]
  },
  {
   "cell_type": "code",
   "execution_count": null,
   "metadata": {},
   "outputs": [],
   "source": []
  },
  {
   "cell_type": "code",
   "execution_count": 8,
   "metadata": {},
   "outputs": [],
   "source": [
    "# обработка текста\n",
    "def text_preprocess(text):\n",
    "    text = tokenizer.tokenize(text.lower()) # приводим текст в нижний регистр и разбиваем на токены по пробелам и знакам пунктуации\n",
    "    text = [re.sub('[^a-z\\s]', '', w) for w in text]# избавляемся от цифр и нелатинских символов \n",
    "    text = [lemmatizer.lemmatize(w) for w in text if w not in STOP_WORDS]# производим лемматизацию и избавляемся от стоп-слов\n",
    "    return ' '.join(text)"
   ]
  },
  {
   "cell_type": "code",
   "execution_count": 10,
   "metadata": {},
   "outputs": [
    {
     "name": "stdout",
     "output_type": "stream",
     "text": [
      "(8021122, 5)\n"
     ]
    },
    {
     "data": {
      "text/html": [
       "<div>\n",
       "<style scoped>\n",
       "    .dataframe tbody tr th:only-of-type {\n",
       "        vertical-align: middle;\n",
       "    }\n",
       "\n",
       "    .dataframe tbody tr th {\n",
       "        vertical-align: top;\n",
       "    }\n",
       "\n",
       "    .dataframe thead th {\n",
       "        text-align: right;\n",
       "    }\n",
       "</style>\n",
       "<table border=\"1\" class=\"dataframe\">\n",
       "  <thead>\n",
       "    <tr style=\"text-align: right;\">\n",
       "      <th></th>\n",
       "      <th>review_id</th>\n",
       "      <th>user_id</th>\n",
       "      <th>business_id</th>\n",
       "      <th>stars</th>\n",
       "      <th>text</th>\n",
       "    </tr>\n",
       "  </thead>\n",
       "  <tbody>\n",
       "    <tr>\n",
       "      <th>0</th>\n",
       "      <td>xQY8N_XvtGbearJ5X4QryQ</td>\n",
       "      <td>OwjRMXRC0KyPrIlcjaXeFQ</td>\n",
       "      <td>-MhfebM0QIsKt87iDN-FNw</td>\n",
       "      <td>2.0</td>\n",
       "      <td>As someone who has worked with many museums, I...</td>\n",
       "    </tr>\n",
       "    <tr>\n",
       "      <th>1</th>\n",
       "      <td>UmFMZ8PyXZTY2QcwzsfQYA</td>\n",
       "      <td>nIJD_7ZXHq-FX8byPMOkMQ</td>\n",
       "      <td>lbrU8StCq3yDfr-QMnGrmQ</td>\n",
       "      <td>1.0</td>\n",
       "      <td>I am actually horrified this place is still in...</td>\n",
       "    </tr>\n",
       "    <tr>\n",
       "      <th>2</th>\n",
       "      <td>LG2ZaYiOgpr2DK_90pYjNw</td>\n",
       "      <td>V34qejxNsCbcgD8C0HVk-Q</td>\n",
       "      <td>HQl28KMwrEKHqhFrrDqVNQ</td>\n",
       "      <td>5.0</td>\n",
       "      <td>I love Deagan's. I do. I really do. The atmosp...</td>\n",
       "    </tr>\n",
       "    <tr>\n",
       "      <th>3</th>\n",
       "      <td>i6g_oA9Yf9Y31qt0wibXpw</td>\n",
       "      <td>ofKDkJKXSKZXu5xJNGiiBQ</td>\n",
       "      <td>5JxlZaqCnk1MnbgRirs40Q</td>\n",
       "      <td>1.0</td>\n",
       "      <td>Dismal, lukewarm, defrosted-tasting \"TexMex\" g...</td>\n",
       "    </tr>\n",
       "    <tr>\n",
       "      <th>4</th>\n",
       "      <td>6TdNDKywdbjoTkizeMce8A</td>\n",
       "      <td>UgMW8bLE0QMJDCkQ1Ax5Mg</td>\n",
       "      <td>IS4cv902ykd8wj1TR0N3-A</td>\n",
       "      <td>4.0</td>\n",
       "      <td>Oh happy day, finally have a Canes near my cas...</td>\n",
       "    </tr>\n",
       "  </tbody>\n",
       "</table>\n",
       "</div>"
      ],
      "text/plain": [
       "                review_id                 user_id             business_id  \\\n",
       "0  xQY8N_XvtGbearJ5X4QryQ  OwjRMXRC0KyPrIlcjaXeFQ  -MhfebM0QIsKt87iDN-FNw   \n",
       "1  UmFMZ8PyXZTY2QcwzsfQYA  nIJD_7ZXHq-FX8byPMOkMQ  lbrU8StCq3yDfr-QMnGrmQ   \n",
       "2  LG2ZaYiOgpr2DK_90pYjNw  V34qejxNsCbcgD8C0HVk-Q  HQl28KMwrEKHqhFrrDqVNQ   \n",
       "3  i6g_oA9Yf9Y31qt0wibXpw  ofKDkJKXSKZXu5xJNGiiBQ  5JxlZaqCnk1MnbgRirs40Q   \n",
       "4  6TdNDKywdbjoTkizeMce8A  UgMW8bLE0QMJDCkQ1Ax5Mg  IS4cv902ykd8wj1TR0N3-A   \n",
       "\n",
       "   stars                                               text  \n",
       "0    2.0  As someone who has worked with many museums, I...  \n",
       "1    1.0  I am actually horrified this place is still in...  \n",
       "2    5.0  I love Deagan's. I do. I really do. The atmosp...  \n",
       "3    1.0  Dismal, lukewarm, defrosted-tasting \"TexMex\" g...  \n",
       "4    4.0  Oh happy day, finally have a Canes near my cas...  "
      ]
     },
     "execution_count": 10,
     "metadata": {},
     "output_type": "execute_result"
    }
   ],
   "source": [
    "# данные об отзывах\n",
    "df_review = pd.read_csv(\"review_data.csv\")\n",
    "# размер датафрейма\n",
    "print(df_review.shape)\n",
    "df_review.head()"
   ]
  },
  {
   "cell_type": "code",
   "execution_count": 11,
   "metadata": {},
   "outputs": [],
   "source": [
    "# оставляем только те отзывы, которые относятся к заведениям питания из датафрейма df_business_restaurants\n",
    "df_review = df_review[df_review['business_id'].isin(df_business_restaurants['business_id'])]\n",
    "# заменяем отсутствующие отзывы на пустую строку \n",
    "df_review[\"text\"].fillna('', inplace=True)"
   ]
  },
  {
   "cell_type": "code",
   "execution_count": 13,
   "metadata": {},
   "outputs": [
    {
     "data": {
      "application/vnd.jupyter.widget-view+json": {
       "model_id": "58d9a78194b74ac29e8ee3384c6defa8",
       "version_major": 2,
       "version_minor": 0
      },
      "text/plain": [
       "HBox(children=(HTML(value='Pandas Apply'), FloatProgress(value=0.0, max=305444.0), HTML(value='')))"
      ]
     },
     "metadata": {},
     "output_type": "display_data"
    },
    {
     "name": "stdout",
     "output_type": "stream",
     "text": [
      "\n"
     ]
    },
    {
     "data": {
      "text/plain": [
       "(305444, 5)"
      ]
     },
     "execution_count": 13,
     "metadata": {},
     "output_type": "execute_result"
    }
   ],
   "source": [
    "# эффективно обрабатываем текст с помощью swifter и очищаем полученный датафрейм от отзывов с пустым текстом\n",
    "df_review['text'] = df_review['text'].swifter.apply(text_preprocess)\n",
    "df_review.shape # итоговый размер датафрейма"
   ]
  },
  {
   "cell_type": "code",
   "execution_count": 14,
   "metadata": {},
   "outputs": [],
   "source": [
    "# записываем полученный файл без индексов\n",
    "df_review.to_csv('review_data_state.csv', index=False)"
   ]
  },
  {
   "cell_type": "code",
   "execution_count": null,
   "metadata": {},
   "outputs": [],
   "source": []
  },
  {
   "cell_type": "code",
   "execution_count": null,
   "metadata": {},
   "outputs": [],
   "source": []
  },
  {
   "cell_type": "code",
   "execution_count": 9,
   "metadata": {},
   "outputs": [],
   "source": [
    "class MatrixFactorization(object):\n",
    "    \n",
    "    def __init__(self, U, I, learning_rate=0.1, lamda=0.1, num_epoches=5, num_batches=100):\n",
    "        self.learning_rate = learning_rate # скорость обучения (learning rate)\n",
    "        self.lamda = lamda # лямбда для L2 регуляризации \n",
    "        self.num_epoches = num_epoches  # число эпох\n",
    "        self.num_batches = num_batches  #число батчей\n",
    "        self.U = U # users feature matrix (матрица признаков пользователей)\n",
    "        self.I = I # items feature matrix (матрица признаков заведений)\n",
    "        self.e = 0 # текущая эпоха\n",
    "\n",
    "    # функция потерь\n",
    "    def loss(self, ratings):\n",
    "        errors = [(rat_ij - np.dot(self.U[i], self.I[j].T))**2 + self.lamda * \\\n",
    "              (norm(self.U[i]) + norm(self.I[j])) for i, j, rat_ij in ratings]\n",
    "        return sum(errors)\n",
    "\n",
    "    # обновление матриц U и I с помощью стохастического градиентного спуска\n",
    "    def update(self, ratings):\n",
    "        for i, j, rat_ij in ratings:\n",
    "            rat_ij_hat = np.dot(self.U[i], self.I[j].T)\n",
    "            grad_U_i = (rat_ij_hat - rat_ij) * self.I[j] + self.lamda * self.U[i]\n",
    "            grad_I_j = (rat_ij_hat - rat_ij) * self.U[i] + self.lamda * self.I[j]\n",
    "            self.U[i] -= self.learning_rate * grad_U_i\n",
    "            self.I[j] -= self.learning_rate * grad_I_j\n",
    "    \n",
    "    # настройка модели \n",
    "    def fit(self, train, test):\n",
    "        num_trains = train.shape[0] # число тренировочных данных\n",
    "        num_tests  = test.shape[0] # число тестовых данных\n",
    "        while self.e < self.num_epoches:\n",
    "            self.e += 1\n",
    "            # перемешиваем тренировочные данные\n",
    "            mixed_order = np.arange(num_trains)\n",
    "            np.random.shuffle(mixed_order)\n",
    "            avg_train_loss = [] # ошибка тренировочных данных \n",
    "            avg_test_loss  = [] # ошибка тестовых данных\n",
    "            batch_size = int(num_trains / self.num_batches) # размер батча\n",
    "            for batch in range(self.num_batches):\n",
    "                batch_indexes = np.arange(batch_size * batch, batch_size * (batch + 1))             \n",
    "                # из тренировочных данных выбираем текущий батч\n",
    "                current_batch_ratings = train[mixed_order[batch_indexes], :]\n",
    "                # выборка случайных значений из тестового набора с размером равным размеру батча тренировочных данных\n",
    "                sample_test = test[np.random.choice(num_tests, batch_size), :]\n",
    "                # обновление матриц U и I \n",
    "                self.update(current_batch_ratings)\n",
    "                # потери тренировочных и тестовых данных\n",
    "                train_loss = self.loss(current_batch_ratings)\n",
    "                test_loss  = self.loss(sample_test)\n",
    "                avg_train_loss.append(train_loss)\n",
    "                avg_test_loss.append(test_loss)\n",
    "            \n",
    "            avg_train_loss = np.mean(avg_train_loss) / float(batch_size) # средняя ошибка тренировочных данных\n",
    "            avg_test_loss  = np.mean(avg_test_loss) / float(batch_size) # средняя ошибка тестовых данных\n",
    "            print(f'{arrow.now()} Epoch № {self.e}', file=sys.stderr)\n",
    "            print(f'{arrow.now()} Training loss:\\t{avg_train_loss}', file=sys.stderr)\n",
    "            print(f'{arrow.now()} Testing loss:\\t{avg_test_loss}', file=sys.stderr)"
   ]
  },
  {
   "cell_type": "code",
   "execution_count": 10,
   "metadata": {},
   "outputs": [
    {
     "name": "stdout",
     "output_type": "stream",
     "text": [
      "                review_id                 user_id             business_id  \\\n",
      "0  01DNCgnW8K6xSyv4krYa1w  XivuRnPq3D-K5cPiBTztIA  oyjkEn5fAqcGNsBbqc8LTw   \n",
      "1  2dYcxwdtulsUY8kj4oZezw  iAQFEArbXp1WUrseOFTLMA  gfhWUixZ4MmEAC1DtTsodA   \n",
      "2  MRPCm_BYEHl2T9oNZYnCbQ  oAFF_A02Ws0mwH-lkbzyMQ  l_kefVF1frmC0xRW2YkvUA   \n",
      "3  ktOeQ7aup9FKFSnO_M1MOg  lq_DOs_38ctAKSzdE8gW4g  N6-dAWPTAaHqwRb94vXFCQ   \n",
      "4  5n7Ye0F9mS7r25rnRfPhZw  AVxQMKJsNvyNPbCJsinvYA  srHBs-NlG0upDlambkURbA   \n",
      "\n",
      "   stars                                               text  \n",
      "0    1.0  good want several time hoping experience alway...  \n",
      "1    5.0  great service food amazing reasonably priced o...  \n",
      "2    2.0  pro fun atmosphere great people watching mecha...  \n",
      "3    5.0  homemade lasagna great gotta try rizzo spaghet...  \n",
      "4    5.0  fast friendly always make sure order correct e...  \n"
     ]
    },
    {
     "data": {
      "application/vnd.jupyter.widget-view+json": {
       "model_id": "c0265f070a774cab8dc0f0174be1024d",
       "version_major": 2,
       "version_minor": 0
      },
      "text/plain": [
       "HBox(children=(HTML(value='Pandas Apply'), FloatProgress(value=0.0, max=305444.0), HTML(value='')))"
      ]
     },
     "metadata": {},
     "output_type": "display_data"
    },
    {
     "name": "stdout",
     "output_type": "stream",
     "text": [
      "\n"
     ]
    },
    {
     "data": {
      "application/vnd.jupyter.widget-view+json": {
       "model_id": "af4897e494ab48d092939a640df6e160",
       "version_major": 2,
       "version_minor": 0
      },
      "text/plain": [
       "HBox(children=(HTML(value='Pandas Apply'), FloatProgress(value=0.0, max=305444.0), HTML(value='')))"
      ]
     },
     "metadata": {},
     "output_type": "display_data"
    },
    {
     "name": "stdout",
     "output_type": "stream",
     "text": [
      "\n",
      "Size of training data: (244355, 4)\n",
      "Size of test data: (61089, 4)\n"
     ]
    }
   ],
   "source": [
    "# считываем файл csv с обработанными данными\n",
    "df_review = pd.read_csv(\"review_data_state.csv\")\n",
    "# заменяем отсутствующие отзывы на пустую строку \n",
    "df_review[\"text\"].fillna('', inplace=True)\n",
    "print(df_review.head())\n",
    "df_review = df_review[['user_id', 'business_id', 'stars', 'text']]\n",
    "# соотвествие уникальных id пользователей числовым значениям\n",
    "dict_users = {key: val for val, key in enumerate(df_review['user_id'].unique())}\n",
    "inv_dict_users = {val: key for key, val in dict_users.items()}\n",
    "# соотвествие уникальных id заведений числовым значениям\n",
    "dict_items = {key: val for val, key in enumerate(df_review['business_id'].unique())}\n",
    "inv_dict_items = {val: key for key, val in dict_items.items()}\n",
    "    \n",
    "df_review['user_id'] = df_review['user_id'].swifter.apply(lambda x: dict_users[x])\n",
    "df_review['business_id'] = df_review['business_id'].swifter.apply(lambda x: dict_items[x])\n",
    "    \n",
    "# разделяем данные на тренировочные и тестовые\n",
    "train_ratings_df, test_ratings_df = train_test_split(df_review, test_size = 0.2)\n",
    "\n",
    "print(f'Size of training data: {train_ratings_df.shape}')\n",
    "print(f'Size of test data: {test_ratings_df.shape}')"
   ]
  },
  {
   "cell_type": "code",
   "execution_count": 11,
   "metadata": {},
   "outputs": [],
   "source": [
    "# для каждого пользователя и заведения объединяем все отзывы в один абзац\n",
    "def get_train_whole_text(df, name_id):\n",
    "    return df[[name_id,'text']].groupby(name_id).agg({'text': ' '.join})\n",
    "    \n",
    "    \n",
    "user_id_review_df = pd.DataFrame(index=inv_dict_users.keys(), columns=[\"text\"])\n",
    "user_id_review_df.index.name = 'user_id'\n",
    "business_id_review_df= pd.DataFrame(index=inv_dict_items.keys(), columns=[\"text\"])\n",
    "business_id_review_df.index.name = 'business_id'\n",
    "\n",
    "# таблицы хранят в себе всех пользователей и заведения,\n",
    "# но только те тексты рекомендаций, которые относятся к тренировочным данным\n",
    "user_id_review_df['text'] =  get_train_whole_text(train_ratings_df, 'user_id')[\"text\"]\n",
    "business_id_review_df['text'] =  get_train_whole_text(train_ratings_df, 'business_id')[\"text\"]\n",
    "user_id_review_df[\"text\"].fillna('', inplace=True)\n",
    "business_id_review_df[\"text\"].fillna('', inplace=True)"
   ]
  },
  {
   "cell_type": "code",
   "execution_count": 12,
   "metadata": {},
   "outputs": [],
   "source": [
    "# выделяем признаки (feature extraction) из отзывов посредством векторизации (TFIDF Vectorizer),\n",
    "# чтобы использовать текст для факторизации матрицы \n",
    "business_id_vectorizer = TfidfVectorizer(tokenizer = tokenizer.tokenize, max_features=5000)\n",
    "business_id_vectors = business_id_vectorizer.fit_transform(business_id_review_df['text'])\n",
    "\n",
    "user_id_vectorizer = TfidfVectorizer(tokenizer = tokenizer.tokenize, max_features=5000)\n",
    "user_id_vectors = user_id_vectorizer.fit_transform(user_id_review_df['text'])\n",
    "\n",
    "# матрица признаков пользователей (users-features matrix)\n",
    "U = pd.DataFrame(user_id_vectors.toarray(), index=user_id_review_df.index, columns=user_id_vectorizer.get_feature_names())\n",
    "U.sort_index(inplace=True)\n",
    "# матрица признаков заведений (business-features matrix)\n",
    "I = pd.DataFrame(business_id_vectors.toarray(), index=business_id_review_df.index, columns=business_id_vectorizer.get_feature_names())\n",
    "I.sort_index(inplace=True)\n",
    "\n",
    "matrixF = MatrixFactorization(U = U.to_numpy(), I = I.to_numpy(), learning_rate=0.07, lamda=0.1, num_epoches=5, num_batches=1000)"
   ]
  },
  {
   "cell_type": "code",
   "execution_count": 13,
   "metadata": {},
   "outputs": [
    {
     "name": "stderr",
     "output_type": "stream",
     "text": [
      "2020-12-21T22:40:37.999407+03:00 Epoch № 1\n",
      "2020-12-21T22:40:38.024309+03:00 Training loss:\t1.6661020561518234\n",
      "2020-12-21T22:40:38.037024+03:00 Testing loss:\t7.59847804210195\n",
      "2020-12-21T22:41:15.683194+03:00 Epoch № 2\n",
      "2020-12-21T22:41:15.684206+03:00 Training loss:\t0.5713870045532586\n",
      "2020-12-21T22:41:15.684306+03:00 Testing loss:\t5.786363726143735\n",
      "2020-12-21T22:41:47.669944+03:00 Epoch № 3\n",
      "2020-12-21T22:41:47.670151+03:00 Training loss:\t0.5137284688675771\n",
      "2020-12-21T22:41:47.670208+03:00 Testing loss:\t5.669466120091069\n",
      "2020-12-21T22:42:16.451756+03:00 Epoch № 4\n",
      "2020-12-21T22:42:16.452014+03:00 Training loss:\t0.4993046371063677\n",
      "2020-12-21T22:42:16.452069+03:00 Testing loss:\t5.586860899918945\n",
      "2020-12-21T22:42:45.378268+03:00 Epoch № 5\n",
      "2020-12-21T22:42:45.378511+03:00 Training loss:\t0.4928536935998837\n",
      "2020-12-21T22:42:45.378575+03:00 Testing loss:\t5.609837342770884\n"
     ]
    }
   ],
   "source": [
    "matrixF.fit(train_ratings_df.to_numpy()[:, 0:3], test_ratings_df.to_numpy()[:, 0:3])"
   ]
  },
  {
   "cell_type": "code",
   "execution_count": 14,
   "metadata": {},
   "outputs": [],
   "source": [
    "U = pd.DataFrame(matrixF.U, index=user_id_review_df.index, columns=user_id_vectorizer.get_feature_names())\n",
    "U.sort_index(inplace=True)\n",
    "I = pd.DataFrame(matrixF.I, index=business_id_review_df.index, columns=business_id_vectorizer.get_feature_names())\n",
    "I.sort_index(inplace=True)"
   ]
  },
  {
   "cell_type": "code",
   "execution_count": null,
   "metadata": {},
   "outputs": [],
   "source": [
    "# предсказанные рейтинги\n",
    "correct = lambda x: round(max(min(x, 5),1)) if x != 0 else 0\n",
    "vectorized_correct = np.vectorize(correct)\n",
    "\n",
    "\n",
    "R = np.dot(matrixF.U, matrixF.I.T)\n",
    "R = pd.DataFrame(vectorized_correct(R), index=U.index, columns=I.index)"
   ]
  },
  {
   "cell_type": "code",
   "execution_count": null,
   "metadata": {},
   "outputs": [],
   "source": [
    "print(f\"Predicted ratings:\\n{R.head()}\")"
   ]
  },
  {
   "cell_type": "code",
   "execution_count": null,
   "metadata": {},
   "outputs": [],
   "source": [
    "# топ-10 признаков по первому заведению\n",
    "I.iloc[train_ratings_df.iat[0, 1]].sort_values(ascending=False).head(10)"
   ]
  },
  {
   "cell_type": "code",
   "execution_count": null,
   "metadata": {},
   "outputs": [],
   "source": [
    "# топ-10 признаков для первого пользователя\n",
    "U.iloc[train_ratings_df.iat[0, 0]].sort_values(ascending=False).head(10)"
   ]
  },
  {
   "cell_type": "code",
   "execution_count": null,
   "metadata": {},
   "outputs": [],
   "source": [
    "# записываем полученный файл без индексов\n",
    "R.to_csv('predicted_ratings.csv', )"
   ]
  },
  {
   "cell_type": "code",
   "execution_count": null,
   "metadata": {},
   "outputs": [],
   "source": [
    "# сохраняем матрицы U, I и vectorizer\n",
    "data = {'U': U, 'I': I, 'V': user_id_vectorizer}\n",
    "\n",
    "with open('recommendation_model.pkl', 'wb') as f:\n",
    "     pickle.dump(data, f)"
   ]
  },
  {
   "cell_type": "code",
   "execution_count": null,
   "metadata": {},
   "outputs": [],
   "source": []
  },
  {
   "cell_type": "code",
   "execution_count": null,
   "metadata": {},
   "outputs": [],
   "source": [
    "# загружаем сохраненную модель\n",
    "with open('recommendation_model.pkl', 'rb') as f:\n",
    "     model = pickle.load(f)\n",
    "print(model)"
   ]
  },
  {
   "cell_type": "code",
   "execution_count": null,
   "metadata": {},
   "outputs": [],
   "source": [
    "I = model[\"I\"]\n",
    "U = model[\"U\"]\n",
    "user_id_vectorizer = model[\"V\"] "
   ]
  },
  {
   "cell_type": "code",
   "execution_count": null,
   "metadata": {},
   "outputs": [],
   "source": [
    "words = input(\"What place are you looking for? \")\n",
    "#words = \"Italian dinner with beautiful views and tasty wine\"\n",
    "\n",
    "\n",
    "query = pd.DataFrame([text_preprocess(words)], columns=['text']) # создаем датафрейм с заданным запросом\n",
    "query_vector = user_id_vectorizer.transform(query['text']) # выделение признаков запроса\n",
    "query = pd.DataFrame(query_vector.toarray(), index=query.index, columns=user_id_vectorizer.get_feature_names())\n",
    "\n",
    "predictRating=pd.DataFrame(np.dot(query.loc[0],I.T), index=I.index, columns=['rating'])\n",
    "topRecommendations=pd.DataFrame.sort_values(predictRating,['rating'],ascending=[0])[:5]\n",
    "\n",
    "number = 0\n",
    "for i in topRecommendations.index:\n",
    "    number+=1\n",
    "    print(f\"\\n№ {number}\")\n",
    "    print(f\"Name: {df_business_restaurants[df_business_restaurants['business_id']==inv_dict_items[i]]['name'].iloc[0]}\")\n",
    "    print(f\"City, state: {df_business_restaurants[df_business_restaurants['business_id']==inv_dict_items[i]]['city'].iloc[0]}, {df_business_restaurants[df_business_restaurants['business_id']==inv_dict_items[i]]['state'].iloc[0]}\")\n",
    "    print(f\"Category: {df_business_restaurants[df_business_restaurants['business_id']==inv_dict_items[i]]['categories'].iloc[0]}\")\n",
    "    print(f\"Average star: {df_business_restaurants[df_business_restaurants['business_id']==inv_dict_items[i]]['stars'].iloc[0]}\")\n",
    "    print(f\"Review count: {df_business_restaurants[df_business_restaurants['business_id']==inv_dict_items[i]]['review_count'].iloc[0]}\")"
   ]
  },
  {
   "cell_type": "code",
   "execution_count": null,
   "metadata": {},
   "outputs": [],
   "source": []
  }
 ],
 "metadata": {
  "kernelspec": {
   "display_name": "Python 3",
   "language": "python",
   "name": "python3"
  },
  "language_info": {
   "codemirror_mode": {
    "name": "ipython",
    "version": 3
   },
   "file_extension": ".py",
   "mimetype": "text/x-python",
   "name": "python",
   "nbconvert_exporter": "python",
   "pygments_lexer": "ipython3",
   "version": "3.8.5"
  }
 },
 "nbformat": 4,
 "nbformat_minor": 4
}
