{
 "cells": [
  {
   "cell_type": "code",
   "execution_count": 1,
   "metadata": {},
   "outputs": [],
   "source": [
    "#!pip install swifter --user\n",
    "#!pip install numpy --user\n",
    "#!pip install nltk --user\n",
    "#!pip install sklearn --user\n",
    "#!pip install arrow --user"
   ]
  },
  {
   "cell_type": "code",
   "execution_count": 2,
   "metadata": {},
   "outputs": [],
   "source": [
    "# импорт библиотек\n",
    "import json \n",
    "import numpy as np\n",
    "import pandas as pd\n",
    "import re\n",
    "import string\n",
    "import nltk\n",
    "import csv\n",
    "from nltk.corpus import stopwords \n",
    "from nltk.stem import WordNetLemmatizer\n",
    "from nltk.tokenize import RegexpTokenizer \n",
    "import gc\n",
    "import swifter\n",
    "from sklearn.feature_extraction.text import TfidfVectorizer\n",
    "from sklearn.model_selection import train_test_split\n",
    "import pickle \n",
    "import sys\n",
    "import arrow\n",
    "import numpy as np\n",
    "from numpy.linalg import norm\n",
    "from multiprocessing import Pool\n",
    "from correct import correct_numbers"
   ]
  },
  {
   "cell_type": "code",
   "execution_count": 3,
   "metadata": {},
   "outputs": [
    {
     "name": "stderr",
     "output_type": "stream",
     "text": [
      "[nltk_data] Downloading package stopwords to\n",
      "[nltk_data]     /Users/kristina/nltk_data...\n",
      "[nltk_data]   Package stopwords is already up-to-date!\n",
      "[nltk_data] Downloading package wordnet to\n",
      "[nltk_data]     /Users/kristina/nltk_data...\n",
      "[nltk_data]   Package wordnet is already up-to-date!\n"
     ]
    },
    {
     "data": {
      "text/plain": [
       "True"
      ]
     },
     "execution_count": 3,
     "metadata": {},
     "output_type": "execute_result"
    }
   ],
   "source": [
    "# загрузка данных nltk \n",
    "nltk.download(\"stopwords\")\n",
    "nltk.download(\"wordnet\")"
   ]
  },
  {
   "cell_type": "code",
   "execution_count": 4,
   "metadata": {},
   "outputs": [],
   "source": [
    "STOP_WORDS = stopwords.words('english') # стоп-слова\n",
    "lemmatizer = WordNetLemmatizer() # лемматизатор\n",
    "tokenizer = RegexpTokenizer(r'\\w+') # токенизатор (лексер)"
   ]
  },
  {
   "cell_type": "code",
   "execution_count": 5,
   "metadata": {},
   "outputs": [
    {
     "data": {
      "text/html": [
       "<div>\n",
       "<style scoped>\n",
       "    .dataframe tbody tr th:only-of-type {\n",
       "        vertical-align: middle;\n",
       "    }\n",
       "\n",
       "    .dataframe tbody tr th {\n",
       "        vertical-align: top;\n",
       "    }\n",
       "\n",
       "    .dataframe thead th {\n",
       "        text-align: right;\n",
       "    }\n",
       "</style>\n",
       "<table border=\"1\" class=\"dataframe\">\n",
       "  <thead>\n",
       "    <tr style=\"text-align: right;\">\n",
       "      <th></th>\n",
       "      <th>business_id</th>\n",
       "      <th>name</th>\n",
       "      <th>address</th>\n",
       "      <th>city</th>\n",
       "      <th>state</th>\n",
       "      <th>postal_code</th>\n",
       "      <th>latitude</th>\n",
       "      <th>longitude</th>\n",
       "      <th>stars</th>\n",
       "      <th>review_count</th>\n",
       "      <th>is_open</th>\n",
       "      <th>attributes</th>\n",
       "      <th>categories</th>\n",
       "      <th>hours</th>\n",
       "    </tr>\n",
       "  </thead>\n",
       "  <tbody>\n",
       "    <tr>\n",
       "      <th>0</th>\n",
       "      <td>f9NumwFMBDn751xgFiRbNA</td>\n",
       "      <td>The Range At Lake Norman</td>\n",
       "      <td>10913 Bailey Rd</td>\n",
       "      <td>Cornelius</td>\n",
       "      <td>NC</td>\n",
       "      <td>28031</td>\n",
       "      <td>35.462724</td>\n",
       "      <td>-80.852612</td>\n",
       "      <td>3.5</td>\n",
       "      <td>36</td>\n",
       "      <td>1</td>\n",
       "      <td>{'BusinessAcceptsCreditCards': 'True', 'BikePa...</td>\n",
       "      <td>Active Life, Gun/Rifle Ranges, Guns &amp; Ammo, Sh...</td>\n",
       "      <td>{'Monday': '10:0-18:0', 'Tuesday': '11:0-20:0'...</td>\n",
       "    </tr>\n",
       "    <tr>\n",
       "      <th>1</th>\n",
       "      <td>Yzvjg0SayhoZgCljUJRF9Q</td>\n",
       "      <td>Carlos Santo, NMD</td>\n",
       "      <td>8880 E Via Linda, Ste 107</td>\n",
       "      <td>Scottsdale</td>\n",
       "      <td>AZ</td>\n",
       "      <td>85258</td>\n",
       "      <td>33.569404</td>\n",
       "      <td>-111.890264</td>\n",
       "      <td>5.0</td>\n",
       "      <td>4</td>\n",
       "      <td>1</td>\n",
       "      <td>{'GoodForKids': 'True', 'ByAppointmentOnly': '...</td>\n",
       "      <td>Health &amp; Medical, Fitness &amp; Instruction, Yoga,...</td>\n",
       "      <td>None</td>\n",
       "    </tr>\n",
       "    <tr>\n",
       "      <th>2</th>\n",
       "      <td>XNoUzKckATkOD1hP6vghZg</td>\n",
       "      <td>Felinus</td>\n",
       "      <td>3554 Rue Notre-Dame O</td>\n",
       "      <td>Montreal</td>\n",
       "      <td>QC</td>\n",
       "      <td>H4C 1P4</td>\n",
       "      <td>45.479984</td>\n",
       "      <td>-73.580070</td>\n",
       "      <td>5.0</td>\n",
       "      <td>5</td>\n",
       "      <td>1</td>\n",
       "      <td>None</td>\n",
       "      <td>Pets, Pet Services, Pet Groomers</td>\n",
       "      <td>None</td>\n",
       "    </tr>\n",
       "    <tr>\n",
       "      <th>3</th>\n",
       "      <td>6OAZjbxqM5ol29BuHsil3w</td>\n",
       "      <td>Nevada House of Hose</td>\n",
       "      <td>1015 Sharp Cir</td>\n",
       "      <td>North Las Vegas</td>\n",
       "      <td>NV</td>\n",
       "      <td>89030</td>\n",
       "      <td>36.219728</td>\n",
       "      <td>-115.127725</td>\n",
       "      <td>2.5</td>\n",
       "      <td>3</td>\n",
       "      <td>0</td>\n",
       "      <td>{'BusinessAcceptsCreditCards': 'True', 'ByAppo...</td>\n",
       "      <td>Hardware Stores, Home Services, Building Suppl...</td>\n",
       "      <td>{'Monday': '7:0-16:0', 'Tuesday': '7:0-16:0', ...</td>\n",
       "    </tr>\n",
       "    <tr>\n",
       "      <th>4</th>\n",
       "      <td>51M2Kk903DFYI6gnB5I6SQ</td>\n",
       "      <td>USE MY GUY SERVICES LLC</td>\n",
       "      <td>4827 E Downing Cir</td>\n",
       "      <td>Mesa</td>\n",
       "      <td>AZ</td>\n",
       "      <td>85205</td>\n",
       "      <td>33.428065</td>\n",
       "      <td>-111.726648</td>\n",
       "      <td>4.5</td>\n",
       "      <td>26</td>\n",
       "      <td>1</td>\n",
       "      <td>{'BusinessAcceptsCreditCards': 'True', 'ByAppo...</td>\n",
       "      <td>Home Services, Plumbing, Electricians, Handyma...</td>\n",
       "      <td>{'Monday': '0:0-0:0', 'Tuesday': '9:0-16:0', '...</td>\n",
       "    </tr>\n",
       "  </tbody>\n",
       "</table>\n",
       "</div>"
      ],
      "text/plain": [
       "              business_id                      name  \\\n",
       "0  f9NumwFMBDn751xgFiRbNA  The Range At Lake Norman   \n",
       "1  Yzvjg0SayhoZgCljUJRF9Q         Carlos Santo, NMD   \n",
       "2  XNoUzKckATkOD1hP6vghZg                   Felinus   \n",
       "3  6OAZjbxqM5ol29BuHsil3w      Nevada House of Hose   \n",
       "4  51M2Kk903DFYI6gnB5I6SQ   USE MY GUY SERVICES LLC   \n",
       "\n",
       "                     address             city state postal_code   latitude  \\\n",
       "0            10913 Bailey Rd        Cornelius    NC       28031  35.462724   \n",
       "1  8880 E Via Linda, Ste 107       Scottsdale    AZ       85258  33.569404   \n",
       "2      3554 Rue Notre-Dame O         Montreal    QC     H4C 1P4  45.479984   \n",
       "3             1015 Sharp Cir  North Las Vegas    NV       89030  36.219728   \n",
       "4         4827 E Downing Cir             Mesa    AZ       85205  33.428065   \n",
       "\n",
       "    longitude  stars  review_count  is_open  \\\n",
       "0  -80.852612    3.5            36        1   \n",
       "1 -111.890264    5.0             4        1   \n",
       "2  -73.580070    5.0             5        1   \n",
       "3 -115.127725    2.5             3        0   \n",
       "4 -111.726648    4.5            26        1   \n",
       "\n",
       "                                          attributes  \\\n",
       "0  {'BusinessAcceptsCreditCards': 'True', 'BikePa...   \n",
       "1  {'GoodForKids': 'True', 'ByAppointmentOnly': '...   \n",
       "2                                               None   \n",
       "3  {'BusinessAcceptsCreditCards': 'True', 'ByAppo...   \n",
       "4  {'BusinessAcceptsCreditCards': 'True', 'ByAppo...   \n",
       "\n",
       "                                          categories  \\\n",
       "0  Active Life, Gun/Rifle Ranges, Guns & Ammo, Sh...   \n",
       "1  Health & Medical, Fitness & Instruction, Yoga,...   \n",
       "2                   Pets, Pet Services, Pet Groomers   \n",
       "3  Hardware Stores, Home Services, Building Suppl...   \n",
       "4  Home Services, Plumbing, Electricians, Handyma...   \n",
       "\n",
       "                                               hours  \n",
       "0  {'Monday': '10:0-18:0', 'Tuesday': '11:0-20:0'...  \n",
       "1                                               None  \n",
       "2                                               None  \n",
       "3  {'Monday': '7:0-16:0', 'Tuesday': '7:0-16:0', ...  \n",
       "4  {'Monday': '0:0-0:0', 'Tuesday': '9:0-16:0', '...  "
      ]
     },
     "execution_count": 5,
     "metadata": {},
     "output_type": "execute_result"
    }
   ],
   "source": [
    "# данные о предприятиях\n",
    "df_business = pd.read_json('yelp_dataset/yelp_academic_dataset_business.json', lines=True)\n",
    "df_business.head()"
   ]
  },
  {
   "cell_type": "code",
   "execution_count": 6,
   "metadata": {
    "scrolled": true
   },
   "outputs": [
    {
     "data": {
      "text/html": [
       "<div>\n",
       "<style scoped>\n",
       "    .dataframe tbody tr th:only-of-type {\n",
       "        vertical-align: middle;\n",
       "    }\n",
       "\n",
       "    .dataframe tbody tr th {\n",
       "        vertical-align: top;\n",
       "    }\n",
       "\n",
       "    .dataframe thead th {\n",
       "        text-align: right;\n",
       "    }\n",
       "</style>\n",
       "<table border=\"1\" class=\"dataframe\">\n",
       "  <thead>\n",
       "    <tr style=\"text-align: right;\">\n",
       "      <th></th>\n",
       "      <th>business_id</th>\n",
       "      <th>name</th>\n",
       "      <th>address</th>\n",
       "      <th>city</th>\n",
       "      <th>state</th>\n",
       "      <th>postal_code</th>\n",
       "      <th>latitude</th>\n",
       "      <th>longitude</th>\n",
       "      <th>stars</th>\n",
       "      <th>review_count</th>\n",
       "      <th>is_open</th>\n",
       "      <th>attributes</th>\n",
       "      <th>categories</th>\n",
       "      <th>hours</th>\n",
       "    </tr>\n",
       "  </thead>\n",
       "  <tbody>\n",
       "    <tr>\n",
       "      <th>136</th>\n",
       "      <td>3C0bnFhjkgYP9mWORKg6cA</td>\n",
       "      <td>Chili Man</td>\n",
       "      <td>S Tryon</td>\n",
       "      <td>Charlotte</td>\n",
       "      <td>NC</td>\n",
       "      <td>28202</td>\n",
       "      <td>35.226911</td>\n",
       "      <td>-80.843823</td>\n",
       "      <td>5.0</td>\n",
       "      <td>172</td>\n",
       "      <td>1</td>\n",
       "      <td>{'RestaurantsTakeOut': 'True', 'RestaurantsDel...</td>\n",
       "      <td>Hot Dogs, Food, Street Vendors, Restaurants</td>\n",
       "      <td>{'Tuesday': '11:0-14:30', 'Wednesday': '11:0-1...</td>\n",
       "    </tr>\n",
       "    <tr>\n",
       "      <th>155</th>\n",
       "      <td>e1tqT4QNOUqDiOvmaIcxfQ</td>\n",
       "      <td>Chef Alyssa's Kitchen</td>\n",
       "      <td>4001-C Yancey Rd, Ste 100</td>\n",
       "      <td>Charlotte</td>\n",
       "      <td>NC</td>\n",
       "      <td>28217</td>\n",
       "      <td>35.186099</td>\n",
       "      <td>-80.878288</td>\n",
       "      <td>4.5</td>\n",
       "      <td>58</td>\n",
       "      <td>1</td>\n",
       "      <td>{'BusinessAcceptsCreditCards': 'True', 'DogsAl...</td>\n",
       "      <td>Active Life, Summer Camps, Personal Chefs, Ven...</td>\n",
       "      <td>{'Monday': '0:0-0:0', 'Tuesday': '18:0-21:0', ...</td>\n",
       "    </tr>\n",
       "    <tr>\n",
       "      <th>176</th>\n",
       "      <td>PlP0c_u3g-3LiWHpb2XnOQ</td>\n",
       "      <td>Lee Cafe</td>\n",
       "      <td>1046 Regent Pkwy, Ste 107</td>\n",
       "      <td>Fort Mill</td>\n",
       "      <td>SC</td>\n",
       "      <td>29715</td>\n",
       "      <td>35.075476</td>\n",
       "      <td>-80.933904</td>\n",
       "      <td>4.0</td>\n",
       "      <td>267</td>\n",
       "      <td>1</td>\n",
       "      <td>{'NoiseLevel': 'u'average'', 'RestaurantsReser...</td>\n",
       "      <td>Restaurants, Sushi Bars, Chinese</td>\n",
       "      <td>{'Monday': '17:0-21:30', 'Tuesday': '17:0-21:3...</td>\n",
       "    </tr>\n",
       "    <tr>\n",
       "      <th>197</th>\n",
       "      <td>8k8cMmMcuj5h85mMLMoj2w</td>\n",
       "      <td>RayNathan's</td>\n",
       "      <td>4571 S New Hope Rd</td>\n",
       "      <td>Gastonia</td>\n",
       "      <td>NC</td>\n",
       "      <td>28056</td>\n",
       "      <td>35.207800</td>\n",
       "      <td>-81.074761</td>\n",
       "      <td>4.0</td>\n",
       "      <td>58</td>\n",
       "      <td>1</td>\n",
       "      <td>{'GoodForKids': 'True', 'WheelchairAccessible'...</td>\n",
       "      <td>Barbeque, Southern, Restaurants, American (Tra...</td>\n",
       "      <td>{'Thursday': '11:0-21:0', 'Friday': '11:0-21:0...</td>\n",
       "    </tr>\n",
       "    <tr>\n",
       "      <th>250</th>\n",
       "      <td>ypILNgy7QFskKAdcPKB2RQ</td>\n",
       "      <td>KFC</td>\n",
       "      <td>1667 Ebenezer Rd</td>\n",
       "      <td>Rock Hill</td>\n",
       "      <td>SC</td>\n",
       "      <td>29732</td>\n",
       "      <td>34.956131</td>\n",
       "      <td>-81.046257</td>\n",
       "      <td>2.0</td>\n",
       "      <td>5</td>\n",
       "      <td>1</td>\n",
       "      <td>{'GoodForKids': 'True', 'WiFi': ''free'', 'Res...</td>\n",
       "      <td>Restaurants, Fast Food, Chicken Shop, Chicken ...</td>\n",
       "      <td>{'Monday': '0:0-0:0', 'Tuesday': '10:0-22:0', ...</td>\n",
       "    </tr>\n",
       "  </tbody>\n",
       "</table>\n",
       "</div>"
      ],
      "text/plain": [
       "                business_id                   name                    address  \\\n",
       "136  3C0bnFhjkgYP9mWORKg6cA              Chili Man                    S Tryon   \n",
       "155  e1tqT4QNOUqDiOvmaIcxfQ  Chef Alyssa's Kitchen  4001-C Yancey Rd, Ste 100   \n",
       "176  PlP0c_u3g-3LiWHpb2XnOQ               Lee Cafe  1046 Regent Pkwy, Ste 107   \n",
       "197  8k8cMmMcuj5h85mMLMoj2w            RayNathan's         4571 S New Hope Rd   \n",
       "250  ypILNgy7QFskKAdcPKB2RQ                    KFC           1667 Ebenezer Rd   \n",
       "\n",
       "          city state postal_code   latitude  longitude  stars  review_count  \\\n",
       "136  Charlotte    NC       28202  35.226911 -80.843823    5.0           172   \n",
       "155  Charlotte    NC       28217  35.186099 -80.878288    4.5            58   \n",
       "176  Fort Mill    SC       29715  35.075476 -80.933904    4.0           267   \n",
       "197   Gastonia    NC       28056  35.207800 -81.074761    4.0            58   \n",
       "250  Rock Hill    SC       29732  34.956131 -81.046257    2.0             5   \n",
       "\n",
       "     is_open                                         attributes  \\\n",
       "136        1  {'RestaurantsTakeOut': 'True', 'RestaurantsDel...   \n",
       "155        1  {'BusinessAcceptsCreditCards': 'True', 'DogsAl...   \n",
       "176        1  {'NoiseLevel': 'u'average'', 'RestaurantsReser...   \n",
       "197        1  {'GoodForKids': 'True', 'WheelchairAccessible'...   \n",
       "250        1  {'GoodForKids': 'True', 'WiFi': ''free'', 'Res...   \n",
       "\n",
       "                                            categories  \\\n",
       "136        Hot Dogs, Food, Street Vendors, Restaurants   \n",
       "155  Active Life, Summer Camps, Personal Chefs, Ven...   \n",
       "176                   Restaurants, Sushi Bars, Chinese   \n",
       "197  Barbeque, Southern, Restaurants, American (Tra...   \n",
       "250  Restaurants, Fast Food, Chicken Shop, Chicken ...   \n",
       "\n",
       "                                                 hours  \n",
       "136  {'Tuesday': '11:0-14:30', 'Wednesday': '11:0-1...  \n",
       "155  {'Monday': '0:0-0:0', 'Tuesday': '18:0-21:0', ...  \n",
       "176  {'Monday': '17:0-21:30', 'Tuesday': '17:0-21:3...  \n",
       "197  {'Thursday': '11:0-21:0', 'Friday': '11:0-21:0...  \n",
       "250  {'Monday': '0:0-0:0', 'Tuesday': '10:0-22:0', ...  "
      ]
     },
     "execution_count": 6,
     "metadata": {},
     "output_type": "execute_result"
    }
   ],
   "source": [
    "# убираем предприятия, в которых отсутствуют данные и оставляем только заведения общественного питания (рестораны)\n",
    "#df_business = df_business.dropna() \n",
    "df_business = df_business[df_business['categories'].notna() & df_business['state'].notna()]\n",
    "df_business_restaurants = df_business[df_business['categories'].str.contains('Restaurants') & df_business['state'].str.contains('NC|SC')] \n",
    "\n",
    "# удаляем df_business и вызываем сборщик мусора\n",
    "del(df_business)\n",
    "gc.collect()\n",
    "\n",
    "# оставляем только открытые заведения (1 = open , 0 = closed)\n",
    "df_business_restaurants = df_business_restaurants[df_business_restaurants['is_open'] == 1]\n",
    "df_business_restaurants.head()"
   ]
  },
  {
   "cell_type": "code",
   "execution_count": 7,
   "metadata": {},
   "outputs": [
    {
     "name": "stdout",
     "output_type": "stream",
     "text": [
      "(3613, 14)\n"
     ]
    }
   ],
   "source": [
    "print(df_business_restaurants.shape)"
   ]
  },
  {
   "cell_type": "code",
   "execution_count": null,
   "metadata": {},
   "outputs": [],
   "source": []
  },
  {
   "cell_type": "code",
   "execution_count": 8,
   "metadata": {},
   "outputs": [],
   "source": [
    "# файл формата json с отзывами очень большой, необходимо преобразовать его в csv \n",
    "keys = [\"review_id\", \"user_id\", \"business_id\", \"stars\", \"text\"]\n",
    "with open(\"review_data.csv\", \"w\",  encoding='utf-8') as fcsv:\n",
    "    wr = csv.writer(fcsv)\n",
    "    wr.writerow(['review_id', 'user_id', 'business_id', 'stars', 'text'])\n",
    "    with open('yelp_dataset/yelp_academic_dataset_review.json', encoding='utf-8') as f:\n",
    "        for line in f:\n",
    "            data = json.loads(line)\n",
    "            wr.writerow([data[keys[0]], data[keys[1]], data[keys[2]], data[keys[3]], data[keys[4]]])"
   ]
  },
  {
   "cell_type": "code",
   "execution_count": null,
   "metadata": {},
   "outputs": [],
   "source": []
  },
  {
   "cell_type": "code",
   "execution_count": 8,
   "metadata": {},
   "outputs": [],
   "source": [
    "# обработка текста\n",
    "def text_preprocess(text):\n",
    "    text = tokenizer.tokenize(text.lower()) # приводим текст в нижний регистр и разбиваем на токены по пробелам и знакам пунктуации\n",
    "    text = [re.sub('[^a-z\\s]', '', w) for w in text]# избавляемся от цифр и нелатинских символов \n",
    "    text = [lemmatizer.lemmatize(w) for w in text if w not in STOP_WORDS]# производим лемматизацию и избавляемся от стоп-слов\n",
    "    return ' '.join(text)"
   ]
  },
  {
   "cell_type": "code",
   "execution_count": 10,
   "metadata": {},
   "outputs": [
    {
     "name": "stdout",
     "output_type": "stream",
     "text": [
      "(8021122, 5)\n"
     ]
    },
    {
     "data": {
      "text/html": [
       "<div>\n",
       "<style scoped>\n",
       "    .dataframe tbody tr th:only-of-type {\n",
       "        vertical-align: middle;\n",
       "    }\n",
       "\n",
       "    .dataframe tbody tr th {\n",
       "        vertical-align: top;\n",
       "    }\n",
       "\n",
       "    .dataframe thead th {\n",
       "        text-align: right;\n",
       "    }\n",
       "</style>\n",
       "<table border=\"1\" class=\"dataframe\">\n",
       "  <thead>\n",
       "    <tr style=\"text-align: right;\">\n",
       "      <th></th>\n",
       "      <th>review_id</th>\n",
       "      <th>user_id</th>\n",
       "      <th>business_id</th>\n",
       "      <th>stars</th>\n",
       "      <th>text</th>\n",
       "    </tr>\n",
       "  </thead>\n",
       "  <tbody>\n",
       "    <tr>\n",
       "      <th>0</th>\n",
       "      <td>xQY8N_XvtGbearJ5X4QryQ</td>\n",
       "      <td>OwjRMXRC0KyPrIlcjaXeFQ</td>\n",
       "      <td>-MhfebM0QIsKt87iDN-FNw</td>\n",
       "      <td>2.0</td>\n",
       "      <td>As someone who has worked with many museums, I...</td>\n",
       "    </tr>\n",
       "    <tr>\n",
       "      <th>1</th>\n",
       "      <td>UmFMZ8PyXZTY2QcwzsfQYA</td>\n",
       "      <td>nIJD_7ZXHq-FX8byPMOkMQ</td>\n",
       "      <td>lbrU8StCq3yDfr-QMnGrmQ</td>\n",
       "      <td>1.0</td>\n",
       "      <td>I am actually horrified this place is still in...</td>\n",
       "    </tr>\n",
       "    <tr>\n",
       "      <th>2</th>\n",
       "      <td>LG2ZaYiOgpr2DK_90pYjNw</td>\n",
       "      <td>V34qejxNsCbcgD8C0HVk-Q</td>\n",
       "      <td>HQl28KMwrEKHqhFrrDqVNQ</td>\n",
       "      <td>5.0</td>\n",
       "      <td>I love Deagan's. I do. I really do. The atmosp...</td>\n",
       "    </tr>\n",
       "    <tr>\n",
       "      <th>3</th>\n",
       "      <td>i6g_oA9Yf9Y31qt0wibXpw</td>\n",
       "      <td>ofKDkJKXSKZXu5xJNGiiBQ</td>\n",
       "      <td>5JxlZaqCnk1MnbgRirs40Q</td>\n",
       "      <td>1.0</td>\n",
       "      <td>Dismal, lukewarm, defrosted-tasting \"TexMex\" g...</td>\n",
       "    </tr>\n",
       "    <tr>\n",
       "      <th>4</th>\n",
       "      <td>6TdNDKywdbjoTkizeMce8A</td>\n",
       "      <td>UgMW8bLE0QMJDCkQ1Ax5Mg</td>\n",
       "      <td>IS4cv902ykd8wj1TR0N3-A</td>\n",
       "      <td>4.0</td>\n",
       "      <td>Oh happy day, finally have a Canes near my cas...</td>\n",
       "    </tr>\n",
       "  </tbody>\n",
       "</table>\n",
       "</div>"
      ],
      "text/plain": [
       "                review_id                 user_id             business_id  \\\n",
       "0  xQY8N_XvtGbearJ5X4QryQ  OwjRMXRC0KyPrIlcjaXeFQ  -MhfebM0QIsKt87iDN-FNw   \n",
       "1  UmFMZ8PyXZTY2QcwzsfQYA  nIJD_7ZXHq-FX8byPMOkMQ  lbrU8StCq3yDfr-QMnGrmQ   \n",
       "2  LG2ZaYiOgpr2DK_90pYjNw  V34qejxNsCbcgD8C0HVk-Q  HQl28KMwrEKHqhFrrDqVNQ   \n",
       "3  i6g_oA9Yf9Y31qt0wibXpw  ofKDkJKXSKZXu5xJNGiiBQ  5JxlZaqCnk1MnbgRirs40Q   \n",
       "4  6TdNDKywdbjoTkizeMce8A  UgMW8bLE0QMJDCkQ1Ax5Mg  IS4cv902ykd8wj1TR0N3-A   \n",
       "\n",
       "   stars                                               text  \n",
       "0    2.0  As someone who has worked with many museums, I...  \n",
       "1    1.0  I am actually horrified this place is still in...  \n",
       "2    5.0  I love Deagan's. I do. I really do. The atmosp...  \n",
       "3    1.0  Dismal, lukewarm, defrosted-tasting \"TexMex\" g...  \n",
       "4    4.0  Oh happy day, finally have a Canes near my cas...  "
      ]
     },
     "execution_count": 10,
     "metadata": {},
     "output_type": "execute_result"
    }
   ],
   "source": [
    "# данные об отзывах\n",
    "df_review = pd.read_csv(\"review_data.csv\")\n",
    "# размер датафрейма\n",
    "print(df_review.shape)\n",
    "df_review.head()"
   ]
  },
  {
   "cell_type": "code",
   "execution_count": 11,
   "metadata": {},
   "outputs": [],
   "source": [
    "# оставляем только те отзывы, которые относятся к заведениям питания из датафрейма df_business_restaurants\n",
    "df_review = df_review[df_review['business_id'].isin(df_business_restaurants['business_id'])]\n",
    "# заменяем отсутствующие отзывы на пустую строку \n",
    "df_review[\"text\"].fillna('', inplace=True)"
   ]
  },
  {
   "cell_type": "code",
   "execution_count": 13,
   "metadata": {},
   "outputs": [
    {
     "data": {
      "application/vnd.jupyter.widget-view+json": {
       "model_id": "58d9a78194b74ac29e8ee3384c6defa8",
       "version_major": 2,
       "version_minor": 0
      },
      "text/plain": [
       "HBox(children=(HTML(value='Pandas Apply'), FloatProgress(value=0.0, max=305444.0), HTML(value='')))"
      ]
     },
     "metadata": {},
     "output_type": "display_data"
    },
    {
     "name": "stdout",
     "output_type": "stream",
     "text": [
      "\n"
     ]
    },
    {
     "data": {
      "text/plain": [
       "(305444, 5)"
      ]
     },
     "execution_count": 13,
     "metadata": {},
     "output_type": "execute_result"
    }
   ],
   "source": [
    "# эффективно обрабатываем текст с помощью swifter и очищаем полученный датафрейм от отзывов с пустым текстом\n",
    "df_review['text'] = df_review['text'].swifter.apply(text_preprocess)\n",
    "df_review.shape # итоговый размер датафрейма"
   ]
  },
  {
   "cell_type": "code",
   "execution_count": 14,
   "metadata": {},
   "outputs": [],
   "source": [
    "# записываем полученный файл без индексов\n",
    "df_review.to_csv('review_data_state.csv', index=False)"
   ]
  },
  {
   "cell_type": "code",
   "execution_count": null,
   "metadata": {},
   "outputs": [],
   "source": []
  },
  {
   "cell_type": "code",
   "execution_count": null,
   "metadata": {},
   "outputs": [],
   "source": []
  },
  {
   "cell_type": "code",
   "execution_count": 9,
   "metadata": {},
   "outputs": [],
   "source": [
    "class MatrixFactorization(object):\n",
    "    \n",
    "    def __init__(self, U, I, learning_rate=0.1, lamda=0.1, num_epoches=5, num_batches=100):\n",
    "        self.learning_rate = learning_rate # скорость обучения (learning rate)\n",
    "        self.lamda = lamda # лямбда для L2 регуляризации \n",
    "        self.num_epoches = num_epoches  # число эпох\n",
    "        self.num_batches = num_batches  #число батчей\n",
    "        self.U = U # users feature matrix (матрица признаков пользователей)\n",
    "        self.I = I # items feature matrix (матрица признаков заведений)\n",
    "        self.e = 0 # текущая эпоха\n",
    "\n",
    "    # функция потерь\n",
    "    def loss(self, ratings):\n",
    "        errors = [(rat_ij - np.dot(self.U[i], self.I[j].T))**2 + self.lamda * \\\n",
    "              (norm(self.U[i]) + norm(self.I[j])) for i, j, rat_ij in ratings]\n",
    "        return sum(errors)\n",
    "\n",
    "    # обновление матриц U и I с помощью стохастического градиентного спуска\n",
    "    def update(self, ratings):\n",
    "        for i, j, rat_ij in ratings:\n",
    "            rat_ij_hat = np.dot(self.U[i], self.I[j].T)\n",
    "            grad_U_i = (rat_ij_hat - rat_ij) * self.I[j] + self.lamda * self.U[i]\n",
    "            grad_I_j = (rat_ij_hat - rat_ij) * self.U[i] + self.lamda * self.I[j]\n",
    "            self.U[i] -= self.learning_rate * grad_U_i\n",
    "            self.I[j] -= self.learning_rate * grad_I_j\n",
    "    \n",
    "    # настройка модели \n",
    "    def fit(self, train, test):\n",
    "        num_trains = train.shape[0] # число тренировочных данных\n",
    "        num_tests  = test.shape[0] # число тестовых данных\n",
    "        while self.e < self.num_epoches:\n",
    "            self.e += 1\n",
    "            # перемешиваем тренировочные данные\n",
    "            mixed_order = np.arange(num_trains)\n",
    "            np.random.shuffle(mixed_order)\n",
    "            avg_train_loss = [] # ошибка тренировочных данных \n",
    "            avg_test_loss  = [] # ошибка тестовых данных\n",
    "            batch_size = int(num_trains / self.num_batches) # размер батча\n",
    "            for batch in range(self.num_batches):\n",
    "                batch_indexes = np.arange(batch_size * batch, batch_size * (batch + 1))             \n",
    "                # из тренировочных данных выбираем текущий батч\n",
    "                current_batch_ratings = train[mixed_order[batch_indexes], :]\n",
    "                # выборка случайных значений из тестового набора с размером равным размеру батча тренировочных данных\n",
    "                sample_test = test[np.random.choice(num_tests, batch_size), :]\n",
    "                # обновление матриц U и I \n",
    "                self.update(current_batch_ratings)\n",
    "                # потери тренировочных и тестовых данных\n",
    "                train_loss = self.loss(current_batch_ratings)\n",
    "                test_loss  = self.loss(sample_test)\n",
    "                avg_train_loss.append(train_loss)\n",
    "                avg_test_loss.append(test_loss)\n",
    "            \n",
    "            avg_train_loss = np.mean(avg_train_loss) / float(batch_size) # средняя ошибка тренировочных данных\n",
    "            avg_test_loss  = np.mean(avg_test_loss) / float(batch_size) # средняя ошибка тестовых данных\n",
    "            print(f'{arrow.now()} Epoch № {self.e}', file=sys.stderr)\n",
    "            print(f'{arrow.now()} Training loss:\\t{avg_train_loss}', file=sys.stderr)\n",
    "            print(f'{arrow.now()} Testing loss:\\t{avg_test_loss}', file=sys.stderr)"
   ]
  },
  {
   "cell_type": "code",
   "execution_count": 10,
   "metadata": {},
   "outputs": [
    {
     "name": "stdout",
     "output_type": "stream",
     "text": [
      "                review_id                 user_id             business_id  \\\n",
      "0  01DNCgnW8K6xSyv4krYa1w  XivuRnPq3D-K5cPiBTztIA  oyjkEn5fAqcGNsBbqc8LTw   \n",
      "1  2dYcxwdtulsUY8kj4oZezw  iAQFEArbXp1WUrseOFTLMA  gfhWUixZ4MmEAC1DtTsodA   \n",
      "2  MRPCm_BYEHl2T9oNZYnCbQ  oAFF_A02Ws0mwH-lkbzyMQ  l_kefVF1frmC0xRW2YkvUA   \n",
      "3  ktOeQ7aup9FKFSnO_M1MOg  lq_DOs_38ctAKSzdE8gW4g  N6-dAWPTAaHqwRb94vXFCQ   \n",
      "4  5n7Ye0F9mS7r25rnRfPhZw  AVxQMKJsNvyNPbCJsinvYA  srHBs-NlG0upDlambkURbA   \n",
      "\n",
      "   stars                                               text  \n",
      "0    1.0  good want several time hoping experience alway...  \n",
      "1    5.0  great service food amazing reasonably priced o...  \n",
      "2    2.0  pro fun atmosphere great people watching mecha...  \n",
      "3    5.0  homemade lasagna great gotta try rizzo spaghet...  \n",
      "4    5.0  fast friendly always make sure order correct e...  \n"
     ]
    },
    {
     "data": {
      "application/vnd.jupyter.widget-view+json": {
       "model_id": "14146f5f14c247b68e238254fa9016c3",
       "version_major": 2,
       "version_minor": 0
      },
      "text/plain": [
       "HBox(children=(HTML(value='Pandas Apply'), FloatProgress(value=0.0, max=305444.0), HTML(value='')))"
      ]
     },
     "metadata": {},
     "output_type": "display_data"
    },
    {
     "name": "stdout",
     "output_type": "stream",
     "text": [
      "\n"
     ]
    },
    {
     "data": {
      "application/vnd.jupyter.widget-view+json": {
       "model_id": "e765ef54f4524d479e5dfd026f26de0c",
       "version_major": 2,
       "version_minor": 0
      },
      "text/plain": [
       "HBox(children=(HTML(value='Pandas Apply'), FloatProgress(value=0.0, max=305444.0), HTML(value='')))"
      ]
     },
     "metadata": {},
     "output_type": "display_data"
    },
    {
     "name": "stdout",
     "output_type": "stream",
     "text": [
      "\n",
      "Size of training data: (244355, 4)\n",
      "Size of test data: (61089, 4)\n"
     ]
    }
   ],
   "source": [
    "# считываем файл csv с обработанными данными\n",
    "df_review = pd.read_csv(\"review_data_state.csv\")\n",
    "# заменяем отсутствующие отзывы на пустую строку \n",
    "df_review[\"text\"].fillna('', inplace=True)\n",
    "print(df_review.head())\n",
    "df_review = df_review[['user_id', 'business_id', 'stars', 'text']]\n",
    "# соотвествие уникальных id пользователей числовым значениям\n",
    "dict_users = {key: val for val, key in enumerate(df_review['user_id'].unique())}\n",
    "inv_dict_users = {val: key for key, val in dict_users.items()}\n",
    "# соотвествие уникальных id заведений числовым значениям\n",
    "dict_items = {key: val for val, key in enumerate(df_review['business_id'].unique())}\n",
    "inv_dict_items = {val: key for key, val in dict_items.items()}\n",
    "    \n",
    "df_review['user_id'] = df_review['user_id'].swifter.apply(lambda x: dict_users[x])\n",
    "df_review['business_id'] = df_review['business_id'].swifter.apply(lambda x: dict_items[x])\n",
    "    \n",
    "# разделяем данные на тренировочные и тестовые\n",
    "train_ratings_df, test_ratings_df = train_test_split(df_review, test_size = 0.2)\n",
    "\n",
    "print(f'Size of training data: {train_ratings_df.shape}')\n",
    "print(f'Size of test data: {test_ratings_df.shape}')"
   ]
  },
  {
   "cell_type": "code",
   "execution_count": 11,
   "metadata": {},
   "outputs": [],
   "source": [
    "# для каждого пользователя и заведения объединяем все отзывы в один абзац\n",
    "def get_train_whole_text(df, name_id):\n",
    "    return df[[name_id,'text']].groupby(name_id).agg({'text': ' '.join})\n",
    "    \n",
    "    \n",
    "user_id_review_df = pd.DataFrame(index=inv_dict_users.keys(), columns=[\"text\"])\n",
    "user_id_review_df.index.name = 'user_id'\n",
    "business_id_review_df= pd.DataFrame(index=inv_dict_items.keys(), columns=[\"text\"])\n",
    "business_id_review_df.index.name = 'business_id'\n",
    "\n",
    "# таблицы хранят в себе всех пользователей и заведения,\n",
    "# но только те тексты рекомендаций, которые относятся к тренировочным данным\n",
    "user_id_review_df['text'] =  get_train_whole_text(train_ratings_df, 'user_id')[\"text\"]\n",
    "business_id_review_df['text'] =  get_train_whole_text(train_ratings_df, 'business_id')[\"text\"]\n",
    "user_id_review_df[\"text\"].fillna('', inplace=True)\n",
    "business_id_review_df[\"text\"].fillna('', inplace=True)"
   ]
  },
  {
   "cell_type": "code",
   "execution_count": 12,
   "metadata": {},
   "outputs": [],
   "source": [
    "# выделяем признаки (feature extraction) из отзывов посредством векторизации (TFIDF Vectorizer),\n",
    "# чтобы использовать текст для факторизации матрицы \n",
    "business_id_vectorizer = TfidfVectorizer(tokenizer = tokenizer.tokenize, max_features=5000)\n",
    "business_id_vectors = business_id_vectorizer.fit_transform(business_id_review_df['text'])\n",
    "\n",
    "user_id_vectorizer = TfidfVectorizer(tokenizer = tokenizer.tokenize, max_features=5000)\n",
    "user_id_vectors = user_id_vectorizer.fit_transform(user_id_review_df['text'])\n",
    "\n",
    "# матрица признаков пользователей (users-features matrix)\n",
    "U = pd.DataFrame(user_id_vectors.toarray(), index=user_id_review_df.index, columns=user_id_vectorizer.get_feature_names())\n",
    "U.sort_index(inplace=True)\n",
    "# матрица признаков заведений (business-features matrix)\n",
    "I = pd.DataFrame(business_id_vectors.toarray(), index=business_id_review_df.index, columns=business_id_vectorizer.get_feature_names())\n",
    "I.sort_index(inplace=True)\n",
    "\n",
    "matrixF = MatrixFactorization(U = U.to_numpy(), I = I.to_numpy(), learning_rate=0.07, lamda=0.1, num_epoches=8, num_batches=1000)"
   ]
  },
  {
   "cell_type": "code",
   "execution_count": 13,
   "metadata": {},
   "outputs": [
    {
     "name": "stderr",
     "output_type": "stream",
     "text": [
      "2020-12-22T00:23:26.348045+03:00 Epoch № 1\n",
      "2020-12-22T00:23:26.369225+03:00 Training loss:\t1.6720098361025622\n",
      "2020-12-22T00:23:26.382218+03:00 Testing loss:\t7.493273384959316\n",
      "2020-12-22T00:23:50.676973+03:00 Epoch № 2\n",
      "2020-12-22T00:23:50.677184+03:00 Training loss:\t0.572166383975603\n",
      "2020-12-22T00:23:50.678111+03:00 Testing loss:\t5.730420634218512\n",
      "2020-12-22T00:24:12.033192+03:00 Epoch № 3\n",
      "2020-12-22T00:24:12.033754+03:00 Training loss:\t0.5136189607643441\n",
      "2020-12-22T00:24:12.033851+03:00 Testing loss:\t5.577223710472161\n",
      "2020-12-22T00:24:33.258592+03:00 Epoch № 4\n",
      "2020-12-22T00:24:33.258786+03:00 Training loss:\t0.4993551443075188\n",
      "2020-12-22T00:24:33.258873+03:00 Testing loss:\t5.544080929889118\n",
      "2020-12-22T00:24:54.087186+03:00 Epoch № 5\n",
      "2020-12-22T00:24:54.087389+03:00 Training loss:\t0.49297537707263434\n",
      "2020-12-22T00:24:54.087440+03:00 Testing loss:\t5.518263134493964\n",
      "2020-12-22T00:25:15.271777+03:00 Epoch № 6\n",
      "2020-12-22T00:25:15.273316+03:00 Training loss:\t0.4892148153583304\n",
      "2020-12-22T00:25:15.273502+03:00 Testing loss:\t5.513470347798598\n",
      "2020-12-22T00:25:36.101756+03:00 Epoch № 7\n",
      "2020-12-22T00:25:36.101965+03:00 Training loss:\t0.48650166508361525\n",
      "2020-12-22T00:25:36.102048+03:00 Testing loss:\t5.504528760053328\n",
      "2020-12-22T00:25:56.852193+03:00 Epoch № 8\n",
      "2020-12-22T00:25:56.852414+03:00 Training loss:\t0.4841670577876554\n",
      "2020-12-22T00:25:56.852480+03:00 Testing loss:\t5.472842643072972\n"
     ]
    }
   ],
   "source": [
    "matrixF.fit(train_ratings_df.to_numpy()[:, 0:3], test_ratings_df.to_numpy()[:, 0:3])"
   ]
  },
  {
   "cell_type": "code",
   "execution_count": 14,
   "metadata": {},
   "outputs": [],
   "source": [
    "U = pd.DataFrame(matrixF.U, index=user_id_review_df.index, columns=user_id_vectorizer.get_feature_names())\n",
    "U.sort_index(inplace=True)\n",
    "I = pd.DataFrame(matrixF.I, index=business_id_review_df.index, columns=business_id_vectorizer.get_feature_names())\n",
    "I.sort_index(inplace=True)"
   ]
  },
  {
   "cell_type": "code",
   "execution_count": 15,
   "metadata": {},
   "outputs": [],
   "source": [
    "if __name__ == '__main__':\n",
    "    R = np.dot(matrixF.U, matrixF.I.T)\n",
    "    with Pool(processes = 10) as pool:\n",
    "        R = np.array(pool.map(correct_numbers, R))"
   ]
  },
  {
   "cell_type": "code",
   "execution_count": 16,
   "metadata": {},
   "outputs": [],
   "source": [
    "# предсказанные рейтинги\n",
    "R = pd.DataFrame(R, index=U.index, columns=I.index)"
   ]
  },
  {
   "cell_type": "code",
   "execution_count": 17,
   "metadata": {},
   "outputs": [
    {
     "name": "stdout",
     "output_type": "stream",
     "text": [
      "Predicted ratings:\n",
      "business_id  0     1     2     3     4     5     6     7     8     9     ...  \\\n",
      "user_id                                                                  ...   \n",
      "0               2     3     3     3     4     3     4     4     3     3  ...   \n",
      "1               2     5     2     3     3     3     3     3     4     4  ...   \n",
      "2               1     1     2     1     1     1     1     1     1     1  ...   \n",
      "3               1     3     2     4     3     2     3     3     3     3  ...   \n",
      "4               1     3     2     2     5     2     3     3     2     3  ...   \n",
      "\n",
      "business_id  3603  3604  3605  3606  3607  3608  3609  3610  3611  3612  \n",
      "user_id                                                                  \n",
      "0               4     2     1     1     4     1     2     3     2     1  \n",
      "1               4     2     1     1     4     1     2     3     2     1  \n",
      "2               1     1     1     1     1     1     1     1     1     1  \n",
      "3               3     2     1     1     3     1     2     2     2     1  \n",
      "4               2     2     1     1     3     1     2     2     2     1  \n",
      "\n",
      "[5 rows x 3613 columns]\n"
     ]
    }
   ],
   "source": [
    "print(f\"Predicted ratings:\\n{R.head()}\")"
   ]
  },
  {
   "cell_type": "code",
   "execution_count": 18,
   "metadata": {},
   "outputs": [
    {
     "data": {
      "text/plain": [
       "breakfast    0.738876\n",
       "food         0.633569\n",
       "place        0.508658\n",
       "good         0.488364\n",
       "great        0.456257\n",
       "back         0.438099\n",
       "time         0.427458\n",
       "omelette     0.420284\n",
       "spot         0.394507\n",
       "coffee       0.359897\n",
       "Name: 3602, dtype: float64"
      ]
     },
     "execution_count": 18,
     "metadata": {},
     "output_type": "execute_result"
    }
   ],
   "source": [
    "# топ-10 признаков по первому заведению\n",
    "I.iloc[train_ratings_df.iat[0, 1]].sort_values(ascending=False).head(10)"
   ]
  },
  {
   "cell_type": "code",
   "execution_count": 19,
   "metadata": {},
   "outputs": [
    {
     "data": {
      "text/plain": [
       "great         0.481538\n",
       "food          0.452784\n",
       "good          0.398175\n",
       "place         0.379128\n",
       "service       0.311501\n",
       "pizza         0.246119\n",
       "amazing       0.245665\n",
       "back          0.242545\n",
       "restaurant    0.232389\n",
       "got           0.231782\n",
       "Name: 15536, dtype: float64"
      ]
     },
     "execution_count": 19,
     "metadata": {},
     "output_type": "execute_result"
    }
   ],
   "source": [
    "# топ-10 признаков для первого пользователя\n",
    "U.iloc[train_ratings_df.iat[0, 0]].sort_values(ascending=False).head(10)"
   ]
  },
  {
   "cell_type": "code",
   "execution_count": 21,
   "metadata": {},
   "outputs": [],
   "source": [
    "# сохраняем матрицы U, I и vectorizer\n",
    "data = {'U': U, 'I': I, 'V': user_id_vectorizer}\n",
    "\n",
    "with open('recommendation_model.pkl', 'wb') as f:\n",
    "     pickle.dump(data, f)"
   ]
  },
  {
   "cell_type": "code",
   "execution_count": 22,
   "metadata": {},
   "outputs": [],
   "source": [
    "# записываем полученный файл без индексов\n",
    "R.to_csv('predicted_ratings.csv', sep='\\t')"
   ]
  },
  {
   "cell_type": "code",
   "execution_count": null,
   "metadata": {},
   "outputs": [],
   "source": []
  },
  {
   "cell_type": "code",
   "execution_count": null,
   "metadata": {},
   "outputs": [],
   "source": []
  },
  {
   "cell_type": "code",
   "execution_count": 23,
   "metadata": {},
   "outputs": [
    {
     "name": "stdout",
     "output_type": "stream",
     "text": [
      "{'U':           ability      able  absolute  absolutely    absurd  abundance  \\\n",
      "user_id                                                                  \n",
      "0       -0.014768 -0.016571  0.001870    0.051947 -0.001616  -0.003334   \n",
      "1        0.000214  0.012553  0.007798    0.031498  0.000179   0.003516   \n",
      "2       -0.000462  0.004792 -0.001940    0.016850 -0.000129   0.000183   \n",
      "3       -0.001112  0.017595 -0.002397    0.058864 -0.000431   0.017763   \n",
      "4       -0.000295  0.018579  0.005272    0.022344  0.000223   0.000125   \n",
      "...           ...       ...       ...         ...       ...        ...   \n",
      "100906   0.000634  0.005210  0.000505    0.008962  0.000007   0.000216   \n",
      "100907   0.000000  0.000000  0.000000    0.000000  0.000000   0.000000   \n",
      "100908   0.000000  0.000000  0.000000    0.000000  0.000000   0.000000   \n",
      "100909   0.018131  0.010335 -0.000594    0.001777 -0.000209  -0.000724   \n",
      "100910   0.008581  0.033843  0.006309    0.055008  0.003043  -0.002342   \n",
      "\n",
      "         abundant        ac    accent    accept  ...      zack      zada  \\\n",
      "user_id                                          ...                       \n",
      "0        0.003628  0.000902  0.003623 -0.002646  ... -0.005280  0.001121   \n",
      "1        0.000068  0.002238 -0.000783  0.000127  ...  0.003459  0.007202   \n",
      "2        0.000009 -0.000299  0.000051 -0.000187  ...  0.000395 -0.000074   \n",
      "3       -0.002892  0.003813 -0.001307  0.007599  ...  0.004521  0.002565   \n",
      "4        0.000040  0.000689  0.000324  0.001091  ...  0.001218  0.000148   \n",
      "...           ...       ...       ...       ...  ...       ...       ...   \n",
      "100906   0.000021  0.000112  0.000350  0.000115  ...  0.000012 -0.000623   \n",
      "100907   0.000000  0.000000  0.000000  0.000000  ...  0.000000  0.000000   \n",
      "100908   0.000000  0.000000  0.000000  0.000000  ...  0.000000  0.000000   \n",
      "100909   0.000531 -0.000658  0.002071  0.011895  ...  0.000071 -0.001142   \n",
      "100910  -0.001046  0.000506  0.004976  0.000449  ...  0.000527 -0.001615   \n",
      "\n",
      "            zaxby   zealand       zen      zero      ziti       zoe      zone  \\\n",
      "user_id                                                                         \n",
      "0        0.014776  0.000720  0.003798  0.028589 -0.008816 -0.012346  0.001784   \n",
      "1        0.001319  0.000061  0.002024  0.006692 -0.002192 -0.002247  0.001088   \n",
      "2        0.002366  0.000028 -0.000041  0.000819  0.002113 -0.000896 -0.000192   \n",
      "3        0.004632  0.005073 -0.004644 -0.010153  0.020573  0.002956 -0.002686   \n",
      "4        0.004366  0.000525  0.000797  0.005394  0.002403 -0.000094  0.000467   \n",
      "...           ...       ...       ...       ...       ...       ...       ...   \n",
      "100906   0.001754  0.000206 -0.000214 -0.000153 -0.000012  0.001537  0.000162   \n",
      "100907   0.000000  0.000000  0.000000  0.000000  0.000000  0.000000  0.000000   \n",
      "100908   0.000000  0.000000  0.000000  0.000000  0.000000  0.000000  0.000000   \n",
      "100909   0.018575  0.000826  0.002313  0.008768 -0.004213 -0.004061 -0.002527   \n",
      "100910  -0.000688  0.000617  0.004959  0.003329 -0.000427  0.000619 -0.000616   \n",
      "\n",
      "         zucchini  \n",
      "user_id            \n",
      "0       -0.011112  \n",
      "1        0.007193  \n",
      "2        0.000939  \n",
      "3        0.001083  \n",
      "4        0.001380  \n",
      "...           ...  \n",
      "100906   0.001220  \n",
      "100907   0.000000  \n",
      "100908   0.000000  \n",
      "100909   0.003310  \n",
      "100910   0.011969  \n",
      "\n",
      "[100911 rows x 5000 columns], 'I':               ability      able  absolute  absolutely    absurd  abundance  \\\n",
      "business_id                                                                  \n",
      "0           -0.006960  0.013378 -0.000783    0.061594 -0.000803  -0.005013   \n",
      "1            0.001140  0.016247  0.020183    0.045486 -0.000481   0.002939   \n",
      "2           -0.002316  0.012146 -0.010512    0.084086 -0.000865   0.001141   \n",
      "3            0.002090  0.017717  0.003175    0.101669  0.000132   0.026800   \n",
      "4           -0.000005  0.037266  0.008976    0.057588 -0.000100   0.000646   \n",
      "...               ...       ...       ...         ...       ...        ...   \n",
      "3608        -0.000058  0.005619  0.002732    0.007084  0.000059   0.000175   \n",
      "3609         0.002906  0.010386  0.000936    0.347449 -0.000032   0.000196   \n",
      "3610         0.001167  0.045810  0.009526    0.029168 -0.000410   0.000414   \n",
      "3611         0.000404  0.018733  0.002338    0.027137 -0.001002   0.000074   \n",
      "3612         0.000000  0.000000  0.000000    0.000000  0.000000   0.000000   \n",
      "\n",
      "             abundant        ac    accent    accept  ...      zack      zada  \\\n",
      "business_id                                          ...                       \n",
      "0            0.000491 -0.001116 -0.002278  0.000716  ... -0.006808  0.008622   \n",
      "1            0.000489  0.005321 -0.001784 -0.002890  ...  0.013821  0.030413   \n",
      "2            0.001322  0.000645  0.000394 -0.000277  ...  0.001619 -0.004190   \n",
      "3           -0.006202  0.009287 -0.002097  0.008526  ...  0.009680  0.013425   \n",
      "4           -0.001457  0.000446  0.000939  0.003971  ...  0.017513  0.000959   \n",
      "...               ...       ...       ...       ...  ...       ...       ...   \n",
      "3608         0.000208  0.000218  0.000017  0.000093  ...  0.000019 -0.000592   \n",
      "3609         0.000410  0.000315  0.000075  0.000128  ...  0.000183  0.000011   \n",
      "3610         0.004165  0.001313 -0.000383  0.007362  ...  0.001488  0.002897   \n",
      "3611         0.009045  0.001669 -0.000598 -0.000133  ...  0.002473 -0.001190   \n",
      "3612         0.000000  0.000000  0.000000  0.000000  ...  0.000000  0.000000   \n",
      "\n",
      "                zaxby   zealand       zen      zero      ziti       zoe  \\\n",
      "business_id                                                               \n",
      "0            0.002456 -0.004129 -0.007975  0.010185 -0.008941 -0.006567   \n",
      "1           -0.001337  0.003118  0.007933  0.009160 -0.007806  0.006420   \n",
      "2            0.012965 -0.005478 -0.005088  0.001717  0.012535 -0.006529   \n",
      "3           -0.000139  0.007233 -0.011705 -0.013550  0.025422  0.005403   \n",
      "4            0.038754 -0.001281  0.001949  0.007209  0.004194 -0.001559   \n",
      "...               ...       ...       ...       ...       ...       ...   \n",
      "3608         0.000513  0.000098  0.000594  0.000341 -0.000105 -0.000153   \n",
      "3609         0.000685 -0.000171  0.000126  0.003807  0.000094 -0.000211   \n",
      "3610         0.003942  0.009304 -0.001259  0.000977 -0.000067 -0.000054   \n",
      "3611        -0.002042  0.006482 -0.000581  0.008021 -0.002887 -0.006529   \n",
      "3612         0.000000  0.000000  0.000000  0.130386  0.000000  0.000000   \n",
      "\n",
      "                 zone  zucchini  \n",
      "business_id                      \n",
      "0           -0.000069 -0.009353  \n",
      "1           -0.000624  0.012341  \n",
      "2           -0.006037  0.009049  \n",
      "3           -0.004047 -0.001811  \n",
      "4            0.001804  0.002894  \n",
      "...               ...       ...  \n",
      "3608        -0.000439  0.000634  \n",
      "3609         0.002928  0.001295  \n",
      "3610        -0.001010  0.002876  \n",
      "3611        -0.003229  0.004176  \n",
      "3612         0.000000  0.000000  \n",
      "\n",
      "[3613 rows x 5000 columns], 'V': TfidfVectorizer(max_features=5000,\n",
      "                tokenizer=<bound method RegexpTokenizer.tokenize of RegexpTokenizer(pattern='\\\\w+', gaps=False, discard_empty=True, flags=re.UNICODE|re.MULTILINE|re.DOTALL)>)}\n"
     ]
    }
   ],
   "source": [
    "# загружаем сохраненную модель\n",
    "with open('recommendation_model.pkl', 'rb') as f:\n",
    "     model = pickle.load(f)\n",
    "print(model)"
   ]
  },
  {
   "cell_type": "code",
   "execution_count": 24,
   "metadata": {},
   "outputs": [],
   "source": [
    "I = model[\"I\"]\n",
    "U = model[\"U\"]\n",
    "user_id_vectorizer = model[\"V\"] "
   ]
  },
  {
   "cell_type": "code",
   "execution_count": 26,
   "metadata": {},
   "outputs": [
    {
     "name": "stdout",
     "output_type": "stream",
     "text": [
      "What place are you looking for? Italian dinner with beautiful views and tasty wine\n",
      "\n",
      "№ 1\n",
      "Name: Fahrenheit - Charlotte\n",
      "City, state: Charlotte, NC\n",
      "Category: Salad, Pizza, Restaurants, American (New)\n",
      "Average star: 3.0\n",
      "Review count: 794\n",
      "\n",
      "№ 2\n",
      "Name: City Lights Rooftop\n",
      "City, state: Charlotte, NC\n",
      "Category: Nightlife, Restaurants, Bars, Lounges, American (Traditional)\n",
      "Average star: 3.0\n",
      "Review count: 84\n",
      "\n",
      "№ 3\n",
      "Name: Corkbuzz Restaurant & Wine Bar\n",
      "City, state: Charlotte, NC\n",
      "Category: Beer, Wine & Spirits, American (New), Restaurants, Food, American (Traditional), Wine Bars, Bars, Nightlife, Education, Tasting Classes, Wine Tasting Classes, Breakfast & Brunch\n",
      "Average star: 4.0\n",
      "Review count: 132\n",
      "\n",
      "№ 4\n",
      "Name: North Harbor Club\n",
      "City, state: Davidson, NC\n",
      "Category: Restaurants, American (New)\n",
      "Average star: 4.0\n",
      "Review count: 251\n",
      "\n",
      "№ 5\n",
      "Name: Wooden Vine Wine Bar & Bistro\n",
      "City, state: Charlotte, NC\n",
      "Category: Restaurants, Nightlife, Bistros, Breakfast & Brunch, Wine Bars, Bars, American (New)\n",
      "Average star: 3.5\n",
      "Review count: 167\n"
     ]
    }
   ],
   "source": [
    "words = input(\"What place are you looking for? \")\n",
    "#words = \"Italian dinner with beautiful views and tasty wine\"\n",
    "\n",
    "\n",
    "query = pd.DataFrame([text_preprocess(words)], columns=['text']) # создаем датафрейм с заданным запросом\n",
    "query_vector = user_id_vectorizer.transform(query['text']) # выделение признаков запроса\n",
    "query = pd.DataFrame(query_vector.toarray(), index=query.index, columns=user_id_vectorizer.get_feature_names())\n",
    "\n",
    "predictRating=pd.DataFrame(np.dot(query.loc[0],I.T), index=I.index, columns=['rating'])\n",
    "topRecommendations=pd.DataFrame.sort_values(predictRating,['rating'],ascending=[0])[:5]\n",
    "\n",
    "number = 0\n",
    "for i in topRecommendations.index:\n",
    "    number+=1\n",
    "    print(f\"\\n№ {number}\")\n",
    "    print(f\"Name: {df_business_restaurants[df_business_restaurants['business_id']==inv_dict_items[i]]['name'].iloc[0]}\")\n",
    "    print(f\"City, state: {df_business_restaurants[df_business_restaurants['business_id']==inv_dict_items[i]]['city'].iloc[0]}, {df_business_restaurants[df_business_restaurants['business_id']==inv_dict_items[i]]['state'].iloc[0]}\")\n",
    "    print(f\"Category: {df_business_restaurants[df_business_restaurants['business_id']==inv_dict_items[i]]['categories'].iloc[0]}\")\n",
    "    print(f\"Average star: {df_business_restaurants[df_business_restaurants['business_id']==inv_dict_items[i]]['stars'].iloc[0]}\")\n",
    "    print(f\"Review count: {df_business_restaurants[df_business_restaurants['business_id']==inv_dict_items[i]]['review_count'].iloc[0]}\")"
   ]
  },
  {
   "cell_type": "code",
   "execution_count": null,
   "metadata": {},
   "outputs": [],
   "source": []
  }
 ],
 "metadata": {
  "kernelspec": {
   "display_name": "Python 3",
   "language": "python",
   "name": "python3"
  },
  "language_info": {
   "codemirror_mode": {
    "name": "ipython",
    "version": 3
   },
   "file_extension": ".py",
   "mimetype": "text/x-python",
   "name": "python",
   "nbconvert_exporter": "python",
   "pygments_lexer": "ipython3",
   "version": "3.8.5"
  }
 },
 "nbformat": 4,
 "nbformat_minor": 4
}
